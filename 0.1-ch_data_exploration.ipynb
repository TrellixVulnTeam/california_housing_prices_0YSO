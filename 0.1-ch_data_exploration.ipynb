{
 "cells": [
  {
   "cell_type": "code",
   "execution_count": 135,
   "metadata": {},
   "outputs": [],
   "source": [
    "import numpy as np\n",
    "import pandas as pd\n",
    "import matplotlib.pyplot as plt\n",
    "from sklearn.model_selection import train_test_split\n",
    "from sklearn.model_selection import StratifiedShuffleSplit"
   ]
  },
  {
   "cell_type": "markdown",
   "metadata": {},
   "source": [
    "# Project Goals\n",
    "To create a model that predicts median house values in Californian districts, given a number of features from these districts"
   ]
  },
  {
   "cell_type": "markdown",
   "metadata": {},
   "source": [
    "# Get the data"
   ]
  },
  {
   "cell_type": "code",
   "execution_count": 136,
   "metadata": {},
   "outputs": [
    {
     "data": {
      "text/html": [
       "<div>\n",
       "<style scoped>\n",
       "    .dataframe tbody tr th:only-of-type {\n",
       "        vertical-align: middle;\n",
       "    }\n",
       "\n",
       "    .dataframe tbody tr th {\n",
       "        vertical-align: top;\n",
       "    }\n",
       "\n",
       "    .dataframe thead th {\n",
       "        text-align: right;\n",
       "    }\n",
       "</style>\n",
       "<table border=\"1\" class=\"dataframe\">\n",
       "  <thead>\n",
       "    <tr style=\"text-align: right;\">\n",
       "      <th></th>\n",
       "      <th>longitude</th>\n",
       "      <th>latitude</th>\n",
       "      <th>housing_median_age</th>\n",
       "      <th>total_rooms</th>\n",
       "      <th>total_bedrooms</th>\n",
       "      <th>population</th>\n",
       "      <th>households</th>\n",
       "      <th>median_income</th>\n",
       "      <th>median_house_value</th>\n",
       "      <th>ocean_proximity</th>\n",
       "    </tr>\n",
       "  </thead>\n",
       "  <tbody>\n",
       "    <tr>\n",
       "      <th>0</th>\n",
       "      <td>-122.23</td>\n",
       "      <td>37.88</td>\n",
       "      <td>41.0</td>\n",
       "      <td>880.0</td>\n",
       "      <td>129.0</td>\n",
       "      <td>322.0</td>\n",
       "      <td>126.0</td>\n",
       "      <td>8.3252</td>\n",
       "      <td>452600.0</td>\n",
       "      <td>NEAR BAY</td>\n",
       "    </tr>\n",
       "    <tr>\n",
       "      <th>1</th>\n",
       "      <td>-122.22</td>\n",
       "      <td>37.86</td>\n",
       "      <td>21.0</td>\n",
       "      <td>7099.0</td>\n",
       "      <td>1106.0</td>\n",
       "      <td>2401.0</td>\n",
       "      <td>1138.0</td>\n",
       "      <td>8.3014</td>\n",
       "      <td>358500.0</td>\n",
       "      <td>NEAR BAY</td>\n",
       "    </tr>\n",
       "    <tr>\n",
       "      <th>2</th>\n",
       "      <td>-122.24</td>\n",
       "      <td>37.85</td>\n",
       "      <td>52.0</td>\n",
       "      <td>1467.0</td>\n",
       "      <td>190.0</td>\n",
       "      <td>496.0</td>\n",
       "      <td>177.0</td>\n",
       "      <td>7.2574</td>\n",
       "      <td>352100.0</td>\n",
       "      <td>NEAR BAY</td>\n",
       "    </tr>\n",
       "    <tr>\n",
       "      <th>3</th>\n",
       "      <td>-122.25</td>\n",
       "      <td>37.85</td>\n",
       "      <td>52.0</td>\n",
       "      <td>1274.0</td>\n",
       "      <td>235.0</td>\n",
       "      <td>558.0</td>\n",
       "      <td>219.0</td>\n",
       "      <td>5.6431</td>\n",
       "      <td>341300.0</td>\n",
       "      <td>NEAR BAY</td>\n",
       "    </tr>\n",
       "    <tr>\n",
       "      <th>4</th>\n",
       "      <td>-122.25</td>\n",
       "      <td>37.85</td>\n",
       "      <td>52.0</td>\n",
       "      <td>1627.0</td>\n",
       "      <td>280.0</td>\n",
       "      <td>565.0</td>\n",
       "      <td>259.0</td>\n",
       "      <td>3.8462</td>\n",
       "      <td>342200.0</td>\n",
       "      <td>NEAR BAY</td>\n",
       "    </tr>\n",
       "  </tbody>\n",
       "</table>\n",
       "</div>"
      ],
      "text/plain": [
       "   longitude  latitude  housing_median_age  total_rooms  total_bedrooms  \\\n",
       "0    -122.23     37.88                41.0        880.0           129.0   \n",
       "1    -122.22     37.86                21.0       7099.0          1106.0   \n",
       "2    -122.24     37.85                52.0       1467.0           190.0   \n",
       "3    -122.25     37.85                52.0       1274.0           235.0   \n",
       "4    -122.25     37.85                52.0       1627.0           280.0   \n",
       "\n",
       "   population  households  median_income  median_house_value ocean_proximity  \n",
       "0       322.0       126.0         8.3252            452600.0        NEAR BAY  \n",
       "1      2401.0      1138.0         8.3014            358500.0        NEAR BAY  \n",
       "2       496.0       177.0         7.2574            352100.0        NEAR BAY  \n",
       "3       558.0       219.0         5.6431            341300.0        NEAR BAY  \n",
       "4       565.0       259.0         3.8462            342200.0        NEAR BAY  "
      ]
     },
     "execution_count": 136,
     "metadata": {},
     "output_type": "execute_result"
    }
   ],
   "source": [
    "file_name = 'data/raw/housing.csv'\n",
    "housing_df = pd.read_csv(file_name)\n",
    "housing_df.head()"
   ]
  },
  {
   "cell_type": "code",
   "execution_count": 137,
   "metadata": {},
   "outputs": [
    {
     "name": "stdout",
     "output_type": "stream",
     "text": [
      "<class 'pandas.core.frame.DataFrame'>\n",
      "RangeIndex: 20640 entries, 0 to 20639\n",
      "Data columns (total 10 columns):\n",
      "longitude             20640 non-null float64\n",
      "latitude              20640 non-null float64\n",
      "housing_median_age    20640 non-null float64\n",
      "total_rooms           20640 non-null float64\n",
      "total_bedrooms        20433 non-null float64\n",
      "population            20640 non-null float64\n",
      "households            20640 non-null float64\n",
      "median_income         20640 non-null float64\n",
      "median_house_value    20640 non-null float64\n",
      "ocean_proximity       20640 non-null object\n",
      "dtypes: float64(9), object(1)\n",
      "memory usage: 1.6+ MB\n"
     ]
    }
   ],
   "source": [
    "housing_df.info()"
   ]
  },
  {
   "cell_type": "code",
   "execution_count": 138,
   "metadata": {},
   "outputs": [
    {
     "data": {
      "text/plain": [
       "<1H OCEAN     9136\n",
       "INLAND        6551\n",
       "NEAR OCEAN    2658\n",
       "NEAR BAY      2290\n",
       "ISLAND           5\n",
       "Name: ocean_proximity, dtype: int64"
      ]
     },
     "execution_count": 138,
     "metadata": {},
     "output_type": "execute_result"
    }
   ],
   "source": [
    "housing_df['ocean_proximity'].value_counts()"
   ]
  },
  {
   "cell_type": "code",
   "execution_count": 139,
   "metadata": {},
   "outputs": [
    {
     "data": {
      "text/html": [
       "<div>\n",
       "<style scoped>\n",
       "    .dataframe tbody tr th:only-of-type {\n",
       "        vertical-align: middle;\n",
       "    }\n",
       "\n",
       "    .dataframe tbody tr th {\n",
       "        vertical-align: top;\n",
       "    }\n",
       "\n",
       "    .dataframe thead th {\n",
       "        text-align: right;\n",
       "    }\n",
       "</style>\n",
       "<table border=\"1\" class=\"dataframe\">\n",
       "  <thead>\n",
       "    <tr style=\"text-align: right;\">\n",
       "      <th></th>\n",
       "      <th>longitude</th>\n",
       "      <th>latitude</th>\n",
       "      <th>housing_median_age</th>\n",
       "      <th>total_rooms</th>\n",
       "      <th>total_bedrooms</th>\n",
       "      <th>population</th>\n",
       "      <th>households</th>\n",
       "      <th>median_income</th>\n",
       "      <th>median_house_value</th>\n",
       "    </tr>\n",
       "  </thead>\n",
       "  <tbody>\n",
       "    <tr>\n",
       "      <th>count</th>\n",
       "      <td>20640.000000</td>\n",
       "      <td>20640.000000</td>\n",
       "      <td>20640.000000</td>\n",
       "      <td>20640.000000</td>\n",
       "      <td>20433.000000</td>\n",
       "      <td>20640.000000</td>\n",
       "      <td>20640.000000</td>\n",
       "      <td>20640.000000</td>\n",
       "      <td>20640.000000</td>\n",
       "    </tr>\n",
       "    <tr>\n",
       "      <th>mean</th>\n",
       "      <td>-119.569704</td>\n",
       "      <td>35.631861</td>\n",
       "      <td>28.639486</td>\n",
       "      <td>2635.763081</td>\n",
       "      <td>537.870553</td>\n",
       "      <td>1425.476744</td>\n",
       "      <td>499.539680</td>\n",
       "      <td>3.870671</td>\n",
       "      <td>206855.816909</td>\n",
       "    </tr>\n",
       "    <tr>\n",
       "      <th>std</th>\n",
       "      <td>2.003532</td>\n",
       "      <td>2.135952</td>\n",
       "      <td>12.585558</td>\n",
       "      <td>2181.615252</td>\n",
       "      <td>421.385070</td>\n",
       "      <td>1132.462122</td>\n",
       "      <td>382.329753</td>\n",
       "      <td>1.899822</td>\n",
       "      <td>115395.615874</td>\n",
       "    </tr>\n",
       "    <tr>\n",
       "      <th>min</th>\n",
       "      <td>-124.350000</td>\n",
       "      <td>32.540000</td>\n",
       "      <td>1.000000</td>\n",
       "      <td>2.000000</td>\n",
       "      <td>1.000000</td>\n",
       "      <td>3.000000</td>\n",
       "      <td>1.000000</td>\n",
       "      <td>0.499900</td>\n",
       "      <td>14999.000000</td>\n",
       "    </tr>\n",
       "    <tr>\n",
       "      <th>25%</th>\n",
       "      <td>-121.800000</td>\n",
       "      <td>33.930000</td>\n",
       "      <td>18.000000</td>\n",
       "      <td>1447.750000</td>\n",
       "      <td>296.000000</td>\n",
       "      <td>787.000000</td>\n",
       "      <td>280.000000</td>\n",
       "      <td>2.563400</td>\n",
       "      <td>119600.000000</td>\n",
       "    </tr>\n",
       "    <tr>\n",
       "      <th>50%</th>\n",
       "      <td>-118.490000</td>\n",
       "      <td>34.260000</td>\n",
       "      <td>29.000000</td>\n",
       "      <td>2127.000000</td>\n",
       "      <td>435.000000</td>\n",
       "      <td>1166.000000</td>\n",
       "      <td>409.000000</td>\n",
       "      <td>3.534800</td>\n",
       "      <td>179700.000000</td>\n",
       "    </tr>\n",
       "    <tr>\n",
       "      <th>75%</th>\n",
       "      <td>-118.010000</td>\n",
       "      <td>37.710000</td>\n",
       "      <td>37.000000</td>\n",
       "      <td>3148.000000</td>\n",
       "      <td>647.000000</td>\n",
       "      <td>1725.000000</td>\n",
       "      <td>605.000000</td>\n",
       "      <td>4.743250</td>\n",
       "      <td>264725.000000</td>\n",
       "    </tr>\n",
       "    <tr>\n",
       "      <th>max</th>\n",
       "      <td>-114.310000</td>\n",
       "      <td>41.950000</td>\n",
       "      <td>52.000000</td>\n",
       "      <td>39320.000000</td>\n",
       "      <td>6445.000000</td>\n",
       "      <td>35682.000000</td>\n",
       "      <td>6082.000000</td>\n",
       "      <td>15.000100</td>\n",
       "      <td>500001.000000</td>\n",
       "    </tr>\n",
       "  </tbody>\n",
       "</table>\n",
       "</div>"
      ],
      "text/plain": [
       "          longitude      latitude  housing_median_age   total_rooms  \\\n",
       "count  20640.000000  20640.000000        20640.000000  20640.000000   \n",
       "mean    -119.569704     35.631861           28.639486   2635.763081   \n",
       "std        2.003532      2.135952           12.585558   2181.615252   \n",
       "min     -124.350000     32.540000            1.000000      2.000000   \n",
       "25%     -121.800000     33.930000           18.000000   1447.750000   \n",
       "50%     -118.490000     34.260000           29.000000   2127.000000   \n",
       "75%     -118.010000     37.710000           37.000000   3148.000000   \n",
       "max     -114.310000     41.950000           52.000000  39320.000000   \n",
       "\n",
       "       total_bedrooms    population    households  median_income  \\\n",
       "count    20433.000000  20640.000000  20640.000000   20640.000000   \n",
       "mean       537.870553   1425.476744    499.539680       3.870671   \n",
       "std        421.385070   1132.462122    382.329753       1.899822   \n",
       "min          1.000000      3.000000      1.000000       0.499900   \n",
       "25%        296.000000    787.000000    280.000000       2.563400   \n",
       "50%        435.000000   1166.000000    409.000000       3.534800   \n",
       "75%        647.000000   1725.000000    605.000000       4.743250   \n",
       "max       6445.000000  35682.000000   6082.000000      15.000100   \n",
       "\n",
       "       median_house_value  \n",
       "count        20640.000000  \n",
       "mean        206855.816909  \n",
       "std         115395.615874  \n",
       "min          14999.000000  \n",
       "25%         119600.000000  \n",
       "50%         179700.000000  \n",
       "75%         264725.000000  \n",
       "max         500001.000000  "
      ]
     },
     "execution_count": 139,
     "metadata": {},
     "output_type": "execute_result"
    }
   ],
   "source": [
    "housing_df.describe()"
   ]
  },
  {
   "cell_type": "code",
   "execution_count": 140,
   "metadata": {},
   "outputs": [
    {
     "data": {
      "image/png": "[encoded data removed]",
      "text/plain": [
       "<Figure size 1440x1080 with 9 Axes>"
      ]
     },
     "metadata": {
      "needs_background": "light"
     },
     "output_type": "display_data"
    }
   ],
   "source": [
    "housing_df.hist(bins=50, figsize=(20,15));\n"
   ]
  },
  {
   "cell_type": "markdown",
   "metadata": {},
   "source": [
    "## Split the data\n",
    "Here we create training and test splits"
   ]
  },
  {
   "cell_type": "code",
   "execution_count": 141,
   "metadata": {},
   "outputs": [],
   "source": [
    "train_set, test_set = train_test_split(housing_df, test_size=0.2, random_state=8)"
   ]
  },
  {
   "cell_type": "code",
   "execution_count": 142,
   "metadata": {},
   "outputs": [
    {
     "data": {
      "text/html": [
       "<div>\n",
       "<style scoped>\n",
       "    .dataframe tbody tr th:only-of-type {\n",
       "        vertical-align: middle;\n",
       "    }\n",
       "\n",
       "    .dataframe tbody tr th {\n",
       "        vertical-align: top;\n",
       "    }\n",
       "\n",
       "    .dataframe thead th {\n",
       "        text-align: right;\n",
       "    }\n",
       "</style>\n",
       "<table border=\"1\" class=\"dataframe\">\n",
       "  <thead>\n",
       "    <tr style=\"text-align: right;\">\n",
       "      <th></th>\n",
       "      <th>longitude</th>\n",
       "      <th>latitude</th>\n",
       "      <th>housing_median_age</th>\n",
       "      <th>total_rooms</th>\n",
       "      <th>total_bedrooms</th>\n",
       "      <th>population</th>\n",
       "      <th>households</th>\n",
       "      <th>median_income</th>\n",
       "      <th>median_house_value</th>\n",
       "      <th>ocean_proximity</th>\n",
       "    </tr>\n",
       "  </thead>\n",
       "  <tbody>\n",
       "    <tr>\n",
       "      <th>17875</th>\n",
       "      <td>-121.99</td>\n",
       "      <td>37.40</td>\n",
       "      <td>35.0</td>\n",
       "      <td>1845.0</td>\n",
       "      <td>325.0</td>\n",
       "      <td>1343.0</td>\n",
       "      <td>317.0</td>\n",
       "      <td>5.3912</td>\n",
       "      <td>235300.0</td>\n",
       "      <td>&lt;1H OCEAN</td>\n",
       "    </tr>\n",
       "    <tr>\n",
       "      <th>9360</th>\n",
       "      <td>-122.53</td>\n",
       "      <td>37.95</td>\n",
       "      <td>22.0</td>\n",
       "      <td>7446.0</td>\n",
       "      <td>1979.0</td>\n",
       "      <td>2980.0</td>\n",
       "      <td>1888.0</td>\n",
       "      <td>3.5838</td>\n",
       "      <td>271300.0</td>\n",
       "      <td>NEAR BAY</td>\n",
       "    </tr>\n",
       "    <tr>\n",
       "      <th>4338</th>\n",
       "      <td>-118.31</td>\n",
       "      <td>34.08</td>\n",
       "      <td>26.0</td>\n",
       "      <td>1609.0</td>\n",
       "      <td>534.0</td>\n",
       "      <td>1868.0</td>\n",
       "      <td>497.0</td>\n",
       "      <td>2.7038</td>\n",
       "      <td>227100.0</td>\n",
       "      <td>&lt;1H OCEAN</td>\n",
       "    </tr>\n",
       "    <tr>\n",
       "      <th>986</th>\n",
       "      <td>-121.85</td>\n",
       "      <td>37.72</td>\n",
       "      <td>43.0</td>\n",
       "      <td>228.0</td>\n",
       "      <td>40.0</td>\n",
       "      <td>83.0</td>\n",
       "      <td>42.0</td>\n",
       "      <td>10.3203</td>\n",
       "      <td>400000.0</td>\n",
       "      <td>INLAND</td>\n",
       "    </tr>\n",
       "    <tr>\n",
       "      <th>8129</th>\n",
       "      <td>-118.17</td>\n",
       "      <td>33.80</td>\n",
       "      <td>26.0</td>\n",
       "      <td>1589.0</td>\n",
       "      <td>380.0</td>\n",
       "      <td>883.0</td>\n",
       "      <td>366.0</td>\n",
       "      <td>3.5313</td>\n",
       "      <td>187500.0</td>\n",
       "      <td>NEAR OCEAN</td>\n",
       "    </tr>\n",
       "  </tbody>\n",
       "</table>\n",
       "</div>"
      ],
      "text/plain": [
       "       longitude  latitude  housing_median_age  total_rooms  total_bedrooms  \\\n",
       "17875    -121.99     37.40                35.0       1845.0           325.0   \n",
       "9360     -122.53     37.95                22.0       7446.0          1979.0   \n",
       "4338     -118.31     34.08                26.0       1609.0           534.0   \n",
       "986      -121.85     37.72                43.0        228.0            40.0   \n",
       "8129     -118.17     33.80                26.0       1589.0           380.0   \n",
       "\n",
       "       population  households  median_income  median_house_value  \\\n",
       "17875      1343.0       317.0         5.3912            235300.0   \n",
       "9360       2980.0      1888.0         3.5838            271300.0   \n",
       "4338       1868.0       497.0         2.7038            227100.0   \n",
       "986          83.0        42.0        10.3203            400000.0   \n",
       "8129        883.0       366.0         3.5313            187500.0   \n",
       "\n",
       "      ocean_proximity  \n",
       "17875       <1H OCEAN  \n",
       "9360         NEAR BAY  \n",
       "4338        <1H OCEAN  \n",
       "986            INLAND  \n",
       "8129       NEAR OCEAN  "
      ]
     },
     "execution_count": 142,
     "metadata": {},
     "output_type": "execute_result"
    }
   ],
   "source": [
    "train_set.head()"
   ]
  },
  {
   "cell_type": "code",
   "execution_count": 143,
   "metadata": {},
   "outputs": [
    {
     "data": {
      "text/html": [
       "<div>\n",
       "<style scoped>\n",
       "    .dataframe tbody tr th:only-of-type {\n",
       "        vertical-align: middle;\n",
       "    }\n",
       "\n",
       "    .dataframe tbody tr th {\n",
       "        vertical-align: top;\n",
       "    }\n",
       "\n",
       "    .dataframe thead th {\n",
       "        text-align: right;\n",
       "    }\n",
       "</style>\n",
       "<table border=\"1\" class=\"dataframe\">\n",
       "  <thead>\n",
       "    <tr style=\"text-align: right;\">\n",
       "      <th></th>\n",
       "      <th>longitude</th>\n",
       "      <th>latitude</th>\n",
       "      <th>housing_median_age</th>\n",
       "      <th>total_rooms</th>\n",
       "      <th>total_bedrooms</th>\n",
       "      <th>population</th>\n",
       "      <th>households</th>\n",
       "      <th>median_income</th>\n",
       "      <th>median_house_value</th>\n",
       "      <th>ocean_proximity</th>\n",
       "    </tr>\n",
       "  </thead>\n",
       "  <tbody>\n",
       "    <tr>\n",
       "      <th>15722</th>\n",
       "      <td>-122.46</td>\n",
       "      <td>37.78</td>\n",
       "      <td>47.0</td>\n",
       "      <td>1682.0</td>\n",
       "      <td>379.0</td>\n",
       "      <td>837.0</td>\n",
       "      <td>375.0</td>\n",
       "      <td>5.2806</td>\n",
       "      <td>400000.0</td>\n",
       "      <td>NEAR BAY</td>\n",
       "    </tr>\n",
       "    <tr>\n",
       "      <th>19685</th>\n",
       "      <td>-121.61</td>\n",
       "      <td>39.14</td>\n",
       "      <td>44.0</td>\n",
       "      <td>2035.0</td>\n",
       "      <td>476.0</td>\n",
       "      <td>1030.0</td>\n",
       "      <td>453.0</td>\n",
       "      <td>1.4661</td>\n",
       "      <td>65200.0</td>\n",
       "      <td>INLAND</td>\n",
       "    </tr>\n",
       "    <tr>\n",
       "      <th>6989</th>\n",
       "      <td>-118.04</td>\n",
       "      <td>33.97</td>\n",
       "      <td>29.0</td>\n",
       "      <td>2376.0</td>\n",
       "      <td>700.0</td>\n",
       "      <td>1968.0</td>\n",
       "      <td>680.0</td>\n",
       "      <td>2.6082</td>\n",
       "      <td>162500.0</td>\n",
       "      <td>&lt;1H OCEAN</td>\n",
       "    </tr>\n",
       "    <tr>\n",
       "      <th>5804</th>\n",
       "      <td>-118.25</td>\n",
       "      <td>34.15</td>\n",
       "      <td>13.0</td>\n",
       "      <td>1107.0</td>\n",
       "      <td>479.0</td>\n",
       "      <td>616.0</td>\n",
       "      <td>443.0</td>\n",
       "      <td>0.8185</td>\n",
       "      <td>187500.0</td>\n",
       "      <td>&lt;1H OCEAN</td>\n",
       "    </tr>\n",
       "    <tr>\n",
       "      <th>5806</th>\n",
       "      <td>-118.26</td>\n",
       "      <td>34.14</td>\n",
       "      <td>29.0</td>\n",
       "      <td>3431.0</td>\n",
       "      <td>1222.0</td>\n",
       "      <td>4094.0</td>\n",
       "      <td>1205.0</td>\n",
       "      <td>2.2614</td>\n",
       "      <td>248100.0</td>\n",
       "      <td>&lt;1H OCEAN</td>\n",
       "    </tr>\n",
       "  </tbody>\n",
       "</table>\n",
       "</div>"
      ],
      "text/plain": [
       "       longitude  latitude  housing_median_age  total_rooms  total_bedrooms  \\\n",
       "15722    -122.46     37.78                47.0       1682.0           379.0   \n",
       "19685    -121.61     39.14                44.0       2035.0           476.0   \n",
       "6989     -118.04     33.97                29.0       2376.0           700.0   \n",
       "5804     -118.25     34.15                13.0       1107.0           479.0   \n",
       "5806     -118.26     34.14                29.0       3431.0          1222.0   \n",
       "\n",
       "       population  households  median_income  median_house_value  \\\n",
       "15722       837.0       375.0         5.2806            400000.0   \n",
       "19685      1030.0       453.0         1.4661             65200.0   \n",
       "6989       1968.0       680.0         2.6082            162500.0   \n",
       "5804        616.0       443.0         0.8185            187500.0   \n",
       "5806       4094.0      1205.0         2.2614            248100.0   \n",
       "\n",
       "      ocean_proximity  \n",
       "15722        NEAR BAY  \n",
       "19685          INLAND  \n",
       "6989        <1H OCEAN  \n",
       "5804        <1H OCEAN  \n",
       "5806        <1H OCEAN  "
      ]
     },
     "execution_count": 143,
     "metadata": {},
     "output_type": "execute_result"
    }
   ],
   "source": [
    "test_set.head()"
   ]
  },
  {
   "cell_type": "markdown",
   "metadata": {},
   "source": [
    "## reduce the number of categories "
   ]
  },
  {
   "cell_type": "code",
   "execution_count": 144,
   "metadata": {
    "scrolled": true
   },
   "outputs": [
    {
     "data": {
      "image/png": "[encoded data removed]",
      "text/plain": [
       "<Figure size 432x288 with 1 Axes>"
      ]
     },
     "metadata": {
      "needs_background": "light"
     },
     "output_type": "display_data"
    }
   ],
   "source": [
    "housing_df[\"median_income\"].hist();"
   ]
  },
  {
   "cell_type": "code",
   "execution_count": 145,
   "metadata": {},
   "outputs": [],
   "source": [
    "# Create income category\n",
    "# Divide by 1.5 to limit the number of income categories\n",
    "housing_df[\"income_cat\"] = np.ceil(housing_df[\"median_income\"] / 1.5)\n",
    "# Label those above 5 as 5\n",
    "housing_df[\"income_cat\"].where(housing_df[\"income_cat\"] < 5, 5.0, inplace=True)"
   ]
  },
  {
   "cell_type": "code",
   "execution_count": 146,
   "metadata": {},
   "outputs": [
    {
     "data": {
      "image/png": "[encoded data removed]",
      "text/plain": [
       "<Figure size 432x288 with 1 Axes>"
      ]
     },
     "metadata": {
      "needs_background": "light"
     },
     "output_type": "display_data"
    }
   ],
   "source": [
    "# plot histogram for new category \n",
    "housing_df[\"income_cat\"].hist();"
   ]
  },
  {
   "cell_type": "code",
   "execution_count": 147,
   "metadata": {},
   "outputs": [
    {
     "data": {
      "text/plain": [
       "3.0    7236\n",
       "2.0    6581\n",
       "4.0    3639\n",
       "5.0    2362\n",
       "1.0     822\n",
       "Name: income_cat, dtype: int64"
      ]
     },
     "execution_count": 147,
     "metadata": {},
     "output_type": "execute_result"
    }
   ],
   "source": [
    "housing_df[\"income_cat\"].value_counts()"
   ]
  },
  {
   "cell_type": "markdown",
   "metadata": {},
   "source": [
    "From the above histogram we see the data is not evenly split. We stratify in order to properly represent population with splits. "
   ]
  },
  {
   "cell_type": "markdown",
   "metadata": {},
   "source": [
    "## Stratify data"
   ]
  },
  {
   "cell_type": "code",
   "execution_count": 148,
   "metadata": {},
   "outputs": [],
   "source": [
    "# split data again but this time with strata\n",
    "split = StratifiedShuffleSplit(n_splits=1, test_size=0.2, random_state=42)\n",
    "for train_index, test_index in split.split(housing_df, housing_df[\"income_cat\"]):\n",
    "    strat_train_set = housing_df.loc[train_index]\n",
    "    strat_test_set = housing_df.loc[test_index]"
   ]
  },
  {
   "cell_type": "code",
   "execution_count": 149,
   "metadata": {},
   "outputs": [
    {
     "data": {
      "text/plain": [
       "3.0    0.350533\n",
       "2.0    0.318798\n",
       "4.0    0.176357\n",
       "5.0    0.114583\n",
       "1.0    0.039729\n",
       "Name: income_cat, dtype: float64"
      ]
     },
     "execution_count": 149,
     "metadata": {},
     "output_type": "execute_result"
    }
   ],
   "source": [
    "# strata ratios \n",
    "strat_test_set[\"income_cat\"].value_counts() / len(strat_test_set)"
   ]
  },
  {
   "cell_type": "code",
   "execution_count": 150,
   "metadata": {},
   "outputs": [
    {
     "data": {
      "text/plain": [
       "3.0    0.350581\n",
       "2.0    0.318847\n",
       "4.0    0.176308\n",
       "5.0    0.114438\n",
       "1.0    0.039826\n",
       "Name: income_cat, dtype: float64"
      ]
     },
     "execution_count": 150,
     "metadata": {},
     "output_type": "execute_result"
    }
   ],
   "source": [
    "# compared to original population \n",
    "housing_df[\"income_cat\"].value_counts() / len(housing_df)"
   ]
  },
  {
   "cell_type": "code",
   "execution_count": 151,
   "metadata": {},
   "outputs": [],
   "source": [
    "# Now we can drop the income cat column \n",
    "for df in [strat_train_set, strat_test_set]:\n",
    "    df.drop(\"income_cat\", axis=1, inplace=True)"
   ]
  },
  {
   "cell_type": "markdown",
   "metadata": {},
   "source": [
    "## Save strata to pickles "
   ]
  },
  {
   "cell_type": "code",
   "execution_count": 152,
   "metadata": {},
   "outputs": [],
   "source": [
    "# Save the strata sets\n",
    "strat_train_set = df.to_pickle('data/interim/'+'strat_train_set'+'.pkl')\n",
    "strat_test_set = df.to_pickle('data/interim/'+'strat_test_set'+'.pkl')"
   ]
  },
  {
   "cell_type": "code",
   "execution_count": 153,
   "metadata": {},
   "outputs": [],
   "source": [
    "# read pickles to dataframes\n",
    "strat_train_set = pd.read_pickle('data/interim/'+'strat_train_set'+'.pkl')\n",
    "strat_test_set = pd.read_pickle('data/interim/'+'strat_test_set'+'.pkl')"
   ]
  },
  {
   "cell_type": "markdown",
   "metadata": {},
   "source": [
    "# Explore data (gain insights)\n",
    "So far we have a general understanding of the data. Let's go a little deeper. First we'll make a copy of the data so we don't alter the training set. Note: we are not working with the full data set from here on. "
   ]
  },
  {
   "cell_type": "code",
   "execution_count": 154,
   "metadata": {},
   "outputs": [],
   "source": [
    "housing_df = strat_train_set.copy()"
   ]
  },
  {
   "cell_type": "code",
   "execution_count": 155,
   "metadata": {},
   "outputs": [
    {
     "data": {
      "image/png": "[encoded data removed]",
      "text/plain": [
       "<Figure size 432x288 with 1 Axes>"
      ]
     },
     "metadata": {
      "needs_background": "light"
     },
     "output_type": "display_data"
    }
   ],
   "source": [
    "housing_df.plot(kind=\"scatter\", x=\"longitude\", y=\"latitude\", alpha=0.1);"
   ]
  },
  {
   "cell_type": "markdown",
   "metadata": {},
   "source": [
    "**Looks like California!**"
   ]
  },
  {
   "cell_type": "code",
   "execution_count": 156,
   "metadata": {},
   "outputs": [
    {
     "data": {
      "image/png": "[encoded data removed]",
      "text/plain": [
       "<Figure size 720x504 with 2 Axes>"
      ]
     },
     "metadata": {
      "needs_background": "light"
     },
     "output_type": "display_data"
    }
   ],
   "source": [
    "housing_df.plot(kind=\"scatter\", x=\"longitude\", y=\"latitude\", alpha=0.4,\n",
    "    s=housing_df[\"population\"]/100, label=\"population\", figsize=(10,7),\n",
    "    c=\"median_house_value\", cmap=plt.get_cmap(\"jet\"), colorbar=True,\n",
    "    sharex=False)\n",
    "plt.legend();"
   ]
  },
  {
   "cell_type": "code",
   "execution_count": 157,
   "metadata": {},
   "outputs": [
    {
     "data": {
      "image/png": "[encoded data removed]",
      "text/plain": [
       "<Figure size 720x504 with 2 Axes>"
      ]
     },
     "metadata": {
      "needs_background": "light"
     },
     "output_type": "display_data"
    }
   ],
   "source": [
    "import matplotlib.image as mpimg\n",
    "california_img=mpimg.imread( 'reports/figures/california.png')\n",
    "ax = housing_df.plot(kind=\"scatter\", x=\"longitude\", y=\"latitude\", figsize=(10,7),\n",
    "                       s=housing_df['population']/100, label=\"Population\",\n",
    "                       c=\"median_house_value\", cmap=plt.get_cmap(\"jet\"),\n",
    "                       colorbar=False, alpha=0.4,\n",
    "                      )\n",
    "plt.imshow(california_img, extent=[-124.55, -113.80, 32.45, 42.05], alpha=0.5,\n",
    "           cmap=plt.get_cmap(\"jet\"))\n",
    "plt.ylabel(\"Latitude\", fontsize=14)\n",
    "plt.xlabel(\"Longitude\", fontsize=14)\n",
    "\n",
    "prices = housing_df[\"median_house_value\"]\n",
    "tick_values = np.linspace(prices.min(), prices.max(), 11)\n",
    "cbar = plt.colorbar()\n",
    "cbar.ax.set_yticklabels([\"$%dk\"%(round(v/1000)) for v in tick_values], fontsize=14)\n",
    "cbar.set_label('Median House Value', fontsize=16)\n",
    "\n",
    "plt.legend(fontsize=16)\n",
    "plt.show()"
   ]
  },
  {
   "cell_type": "code",
   "execution_count": 158,
   "metadata": {},
   "outputs": [
    {
     "data": {
      "text/plain": [
       "median_house_value    1.000000\n",
       "median_income         0.691831\n",
       "total_rooms           0.131435\n",
       "housing_median_age    0.071357\n",
       "households            0.071242\n",
       "total_bedrooms        0.057568\n",
       "population           -0.016033\n",
       "longitude            -0.039987\n",
       "latitude             -0.150124\n",
       "Name: median_house_value, dtype: float64"
      ]
     },
     "execution_count": 158,
     "metadata": {},
     "output_type": "execute_result"
    }
   ],
   "source": [
    "housing_df.corr()['median_house_value'].sort_values(ascending=False)"
   ]
  },
  {
   "cell_type": "markdown",
   "metadata": {},
   "source": [
    "We see a strong correlation between median income and median house value. Next let's look at the correlations."
   ]
  },
  {
   "cell_type": "code",
   "execution_count": 159,
   "metadata": {},
   "outputs": [
    {
     "data": {
      "image/png": "[encoded data removed]",
      "text/plain": [
       "<Figure size 864x576 with 16 Axes>"
      ]
     },
     "metadata": {
      "needs_background": "light"
     },
     "output_type": "display_data"
    }
   ],
   "source": [
    "attributes = [\"median_house_value\", \"median_income\", \"total_rooms\",\n",
    "              \"housing_median_age\"]\n",
    "pd.plotting.scatter_matrix (housing_df[attributes], figsize=(12, 8));"
   ]
  },
  {
   "cell_type": "code",
   "execution_count": 160,
   "metadata": {},
   "outputs": [
    {
     "data": {
      "text/plain": [
       "[0, 16, 0, 550000]"
      ]
     },
     "execution_count": 160,
     "metadata": {},
     "output_type": "execute_result"
    },
    {
     "data": {
      "image/png": "[encoded data removed]",
      "text/plain": [
       "<Figure size 432x288 with 1 Axes>"
      ]
     },
     "metadata": {
      "needs_background": "light"
     },
     "output_type": "display_data"
    }
   ],
   "source": [
    "# Let's isolate median income and median house value\n",
    "housing_df.plot(kind=\"scatter\", x=\"median_income\", y=\"median_house_value\",\n",
    "             alpha=0.1)\n",
    "plt.axis([0, 16, 0, 550000])"
   ]
  },
  {
   "cell_type": "markdown",
   "metadata": {},
   "source": [
    "## Experiment with Attribute Combinations "
   ]
  },
  {
   "cell_type": "code",
   "execution_count": 161,
   "metadata": {},
   "outputs": [],
   "source": [
    "housing_df[\"rooms_per_household\"] = housing_df[\"total_rooms\"]/housing_df[\"households\"]\n",
    "housing_df[\"bedrooms_per_room\"] = housing_df[\"total_bedrooms\"]/housing_df[\"total_rooms\"]\n",
    "housing_df[\"population_per_household\"]=housing_df[\"population\"]/housing_df[\"households\"]"
   ]
  },
  {
   "cell_type": "code",
   "execution_count": 162,
   "metadata": {},
   "outputs": [
    {
     "data": {
      "text/plain": [
       "median_house_value          1.000000\n",
       "median_income               0.691831\n",
       "rooms_per_household         0.192575\n",
       "total_rooms                 0.131435\n",
       "housing_median_age          0.071357\n",
       "households                  0.071242\n",
       "total_bedrooms              0.057568\n",
       "population                 -0.016033\n",
       "longitude                  -0.039987\n",
       "population_per_household   -0.135142\n",
       "latitude                   -0.150124\n",
       "bedrooms_per_room          -0.240362\n",
       "Name: median_house_value, dtype: float64"
      ]
     },
     "execution_count": 162,
     "metadata": {},
     "output_type": "execute_result"
    }
   ],
   "source": [
    "# measure correlation again \n",
    "housing_df.corr()['median_house_value'].sort_values(ascending=False)"
   ]
  },
  {
   "cell_type": "code",
   "execution_count": 163,
   "metadata": {},
   "outputs": [
    {
     "data": {
      "image/png": "[encoded data removed]",
      "text/plain": [
       "<Figure size 432x288 with 1 Axes>"
      ]
     },
     "metadata": {
      "needs_background": "light"
     },
     "output_type": "display_data"
    }
   ],
   "source": [
    "# We created two features (rooms_per_household and bedrooms_per_room) we mild correlation\n",
    "housing_df.plot(kind=\"scatter\", x=\"rooms_per_household\", y=\"median_house_value\",\n",
    "             alpha=0.2)\n",
    "plt.axis([0, 5, 0, 520000])\n",
    "plt.show()"
   ]
  },
  {
   "cell_type": "code",
   "execution_count": 164,
   "metadata": {},
   "outputs": [
    {
     "data": {
      "text/html": [
       "<div>\n",
       "<style scoped>\n",
       "    .dataframe tbody tr th:only-of-type {\n",
       "        vertical-align: middle;\n",
       "    }\n",
       "\n",
       "    .dataframe tbody tr th {\n",
       "        vertical-align: top;\n",
       "    }\n",
       "\n",
       "    .dataframe thead th {\n",
       "        text-align: right;\n",
       "    }\n",
       "</style>\n",
       "<table border=\"1\" class=\"dataframe\">\n",
       "  <thead>\n",
       "    <tr style=\"text-align: right;\">\n",
       "      <th></th>\n",
       "      <th>longitude</th>\n",
       "      <th>latitude</th>\n",
       "      <th>housing_median_age</th>\n",
       "      <th>total_rooms</th>\n",
       "      <th>total_bedrooms</th>\n",
       "      <th>population</th>\n",
       "      <th>households</th>\n",
       "      <th>median_income</th>\n",
       "      <th>median_house_value</th>\n",
       "      <th>rooms_per_household</th>\n",
       "      <th>bedrooms_per_room</th>\n",
       "      <th>population_per_household</th>\n",
       "    </tr>\n",
       "  </thead>\n",
       "  <tbody>\n",
       "    <tr>\n",
       "      <th>count</th>\n",
       "      <td>4128.000000</td>\n",
       "      <td>4128.000000</td>\n",
       "      <td>4128.000000</td>\n",
       "      <td>4128.000000</td>\n",
       "      <td>4079.000000</td>\n",
       "      <td>4128.000000</td>\n",
       "      <td>4128.00000</td>\n",
       "      <td>4128.000000</td>\n",
       "      <td>4128.000000</td>\n",
       "      <td>4128.000000</td>\n",
       "      <td>4079.000000</td>\n",
       "      <td>4128.000000</td>\n",
       "    </tr>\n",
       "    <tr>\n",
       "      <th>mean</th>\n",
       "      <td>-119.545187</td>\n",
       "      <td>35.600998</td>\n",
       "      <td>28.585029</td>\n",
       "      <td>2687.902132</td>\n",
       "      <td>549.484187</td>\n",
       "      <td>1448.220446</td>\n",
       "      <td>509.45688</td>\n",
       "      <td>3.850998</td>\n",
       "      <td>206315.401647</td>\n",
       "      <td>5.383637</td>\n",
       "      <td>0.213684</td>\n",
       "      <td>2.967526</td>\n",
       "    </tr>\n",
       "    <tr>\n",
       "      <th>std</th>\n",
       "      <td>2.010260</td>\n",
       "      <td>2.127489</td>\n",
       "      <td>12.630172</td>\n",
       "      <td>2345.868226</td>\n",
       "      <td>454.414696</td>\n",
       "      <td>1197.088364</td>\n",
       "      <td>407.59254</td>\n",
       "      <td>1.879270</td>\n",
       "      <td>114170.048854</td>\n",
       "      <td>1.822611</td>\n",
       "      <td>0.060344</td>\n",
       "      <td>1.584630</td>\n",
       "    </tr>\n",
       "    <tr>\n",
       "      <th>min</th>\n",
       "      <td>-124.180000</td>\n",
       "      <td>32.550000</td>\n",
       "      <td>1.000000</td>\n",
       "      <td>2.000000</td>\n",
       "      <td>1.000000</td>\n",
       "      <td>5.000000</td>\n",
       "      <td>1.00000</td>\n",
       "      <td>0.499900</td>\n",
       "      <td>14999.000000</td>\n",
       "      <td>0.846154</td>\n",
       "      <td>0.100000</td>\n",
       "      <td>1.089286</td>\n",
       "    </tr>\n",
       "    <tr>\n",
       "      <th>25%</th>\n",
       "      <td>-121.780000</td>\n",
       "      <td>33.920000</td>\n",
       "      <td>18.000000</td>\n",
       "      <td>1474.000000</td>\n",
       "      <td>301.000000</td>\n",
       "      <td>805.750000</td>\n",
       "      <td>283.00000</td>\n",
       "      <td>2.543000</td>\n",
       "      <td>118975.000000</td>\n",
       "      <td>4.434536</td>\n",
       "      <td>0.175927</td>\n",
       "      <td>2.425183</td>\n",
       "    </tr>\n",
       "    <tr>\n",
       "      <th>50%</th>\n",
       "      <td>-118.455000</td>\n",
       "      <td>34.220000</td>\n",
       "      <td>28.000000</td>\n",
       "      <td>2158.500000</td>\n",
       "      <td>441.000000</td>\n",
       "      <td>1172.000000</td>\n",
       "      <td>416.00000</td>\n",
       "      <td>3.514750</td>\n",
       "      <td>181300.000000</td>\n",
       "      <td>5.218776</td>\n",
       "      <td>0.203543</td>\n",
       "      <td>2.823084</td>\n",
       "    </tr>\n",
       "    <tr>\n",
       "      <th>75%</th>\n",
       "      <td>-117.980000</td>\n",
       "      <td>37.690000</td>\n",
       "      <td>37.000000</td>\n",
       "      <td>3171.000000</td>\n",
       "      <td>653.000000</td>\n",
       "      <td>1754.000000</td>\n",
       "      <td>613.00000</td>\n",
       "      <td>4.739700</td>\n",
       "      <td>269025.000000</td>\n",
       "      <td>6.031716</td>\n",
       "      <td>0.239756</td>\n",
       "      <td>3.286534</td>\n",
       "    </tr>\n",
       "    <tr>\n",
       "      <th>max</th>\n",
       "      <td>-114.560000</td>\n",
       "      <td>41.950000</td>\n",
       "      <td>52.000000</td>\n",
       "      <td>32627.000000</td>\n",
       "      <td>6445.000000</td>\n",
       "      <td>28566.000000</td>\n",
       "      <td>6082.00000</td>\n",
       "      <td>15.000100</td>\n",
       "      <td>500001.000000</td>\n",
       "      <td>37.063492</td>\n",
       "      <td>1.000000</td>\n",
       "      <td>63.750000</td>\n",
       "    </tr>\n",
       "  </tbody>\n",
       "</table>\n",
       "</div>"
      ],
      "text/plain": [
       "         longitude     latitude  housing_median_age   total_rooms  \\\n",
       "count  4128.000000  4128.000000         4128.000000   4128.000000   \n",
       "mean   -119.545187    35.600998           28.585029   2687.902132   \n",
       "std       2.010260     2.127489           12.630172   2345.868226   \n",
       "min    -124.180000    32.550000            1.000000      2.000000   \n",
       "25%    -121.780000    33.920000           18.000000   1474.000000   \n",
       "50%    -118.455000    34.220000           28.000000   2158.500000   \n",
       "75%    -117.980000    37.690000           37.000000   3171.000000   \n",
       "max    -114.560000    41.950000           52.000000  32627.000000   \n",
       "\n",
       "       total_bedrooms    population  households  median_income  \\\n",
       "count     4079.000000   4128.000000  4128.00000    4128.000000   \n",
       "mean       549.484187   1448.220446   509.45688       3.850998   \n",
       "std        454.414696   1197.088364   407.59254       1.879270   \n",
       "min          1.000000      5.000000     1.00000       0.499900   \n",
       "25%        301.000000    805.750000   283.00000       2.543000   \n",
       "50%        441.000000   1172.000000   416.00000       3.514750   \n",
       "75%        653.000000   1754.000000   613.00000       4.739700   \n",
       "max       6445.000000  28566.000000  6082.00000      15.000100   \n",
       "\n",
       "       median_house_value  rooms_per_household  bedrooms_per_room  \\\n",
       "count         4128.000000          4128.000000        4079.000000   \n",
       "mean        206315.401647             5.383637           0.213684   \n",
       "std         114170.048854             1.822611           0.060344   \n",
       "min          14999.000000             0.846154           0.100000   \n",
       "25%         118975.000000             4.434536           0.175927   \n",
       "50%         181300.000000             5.218776           0.203543   \n",
       "75%         269025.000000             6.031716           0.239756   \n",
       "max         500001.000000            37.063492           1.000000   \n",
       "\n",
       "       population_per_household  \n",
       "count               4128.000000  \n",
       "mean                   2.967526  \n",
       "std                    1.584630  \n",
       "min                    1.089286  \n",
       "25%                    2.425183  \n",
       "50%                    2.823084  \n",
       "75%                    3.286534  \n",
       "max                   63.750000  "
      ]
     },
     "execution_count": 164,
     "metadata": {},
     "output_type": "execute_result"
    }
   ],
   "source": [
    "# a bit of a sanity check, look at the new columns\n",
    "housing_df.describe()"
   ]
  },
  {
   "cell_type": "markdown",
   "metadata": {},
   "source": [
    "**We can always return to this step**"
   ]
  },
  {
   "cell_type": "markdown",
   "metadata": {},
   "source": [
    "# Prepare data for Machine Learning algorithms"
   ]
  },
  {
   "cell_type": "code",
   "execution_count": 165,
   "metadata": {},
   "outputs": [],
   "source": [
    "# drop labels for training set\n",
    "# here the drop method also creates a copy \n",
    "housing = strat_train_set.drop(\"median_house_value\", axis=1) \n",
    "housing_labels = strat_train_set[\"median_house_value\"].copy()"
   ]
  },
  {
   "cell_type": "markdown",
   "metadata": {},
   "source": [
    "## Explore missing data "
   ]
  },
  {
   "cell_type": "code",
   "execution_count": 166,
   "metadata": {},
   "outputs": [
    {
     "data": {
      "text/html": [
       "<div>\n",
       "<style scoped>\n",
       "    .dataframe tbody tr th:only-of-type {\n",
       "        vertical-align: middle;\n",
       "    }\n",
       "\n",
       "    .dataframe tbody tr th {\n",
       "        vertical-align: top;\n",
       "    }\n",
       "\n",
       "    .dataframe thead th {\n",
       "        text-align: right;\n",
       "    }\n",
       "</style>\n",
       "<table border=\"1\" class=\"dataframe\">\n",
       "  <thead>\n",
       "    <tr style=\"text-align: right;\">\n",
       "      <th></th>\n",
       "      <th>longitude</th>\n",
       "      <th>latitude</th>\n",
       "      <th>housing_median_age</th>\n",
       "      <th>total_rooms</th>\n",
       "      <th>total_bedrooms</th>\n",
       "      <th>population</th>\n",
       "      <th>households</th>\n",
       "      <th>median_income</th>\n",
       "      <th>ocean_proximity</th>\n",
       "    </tr>\n",
       "  </thead>\n",
       "  <tbody>\n",
       "    <tr>\n",
       "      <th>4309</th>\n",
       "      <td>-118.32</td>\n",
       "      <td>34.09</td>\n",
       "      <td>44.0</td>\n",
       "      <td>2666.0</td>\n",
       "      <td>NaN</td>\n",
       "      <td>2297.0</td>\n",
       "      <td>726.0</td>\n",
       "      <td>1.6760</td>\n",
       "      <td>&lt;1H OCEAN</td>\n",
       "    </tr>\n",
       "    <tr>\n",
       "      <th>11096</th>\n",
       "      <td>-117.87</td>\n",
       "      <td>33.83</td>\n",
       "      <td>27.0</td>\n",
       "      <td>2287.0</td>\n",
       "      <td>NaN</td>\n",
       "      <td>1140.0</td>\n",
       "      <td>351.0</td>\n",
       "      <td>5.6163</td>\n",
       "      <td>&lt;1H OCEAN</td>\n",
       "    </tr>\n",
       "    <tr>\n",
       "      <th>3912</th>\n",
       "      <td>-118.55</td>\n",
       "      <td>34.19</td>\n",
       "      <td>18.0</td>\n",
       "      <td>5862.0</td>\n",
       "      <td>NaN</td>\n",
       "      <td>3161.0</td>\n",
       "      <td>1280.0</td>\n",
       "      <td>3.1106</td>\n",
       "      <td>&lt;1H OCEAN</td>\n",
       "    </tr>\n",
       "    <tr>\n",
       "      <th>15030</th>\n",
       "      <td>-117.02</td>\n",
       "      <td>32.78</td>\n",
       "      <td>31.0</td>\n",
       "      <td>2567.0</td>\n",
       "      <td>NaN</td>\n",
       "      <td>1198.0</td>\n",
       "      <td>499.0</td>\n",
       "      <td>3.4659</td>\n",
       "      <td>&lt;1H OCEAN</td>\n",
       "    </tr>\n",
       "    <tr>\n",
       "      <th>10885</th>\n",
       "      <td>-117.92</td>\n",
       "      <td>33.70</td>\n",
       "      <td>15.0</td>\n",
       "      <td>3201.0</td>\n",
       "      <td>NaN</td>\n",
       "      <td>1510.0</td>\n",
       "      <td>622.0</td>\n",
       "      <td>4.2708</td>\n",
       "      <td>&lt;1H OCEAN</td>\n",
       "    </tr>\n",
       "  </tbody>\n",
       "</table>\n",
       "</div>"
      ],
      "text/plain": [
       "       longitude  latitude  housing_median_age  total_rooms  total_bedrooms  \\\n",
       "4309     -118.32     34.09                44.0       2666.0             NaN   \n",
       "11096    -117.87     33.83                27.0       2287.0             NaN   \n",
       "3912     -118.55     34.19                18.0       5862.0             NaN   \n",
       "15030    -117.02     32.78                31.0       2567.0             NaN   \n",
       "10885    -117.92     33.70                15.0       3201.0             NaN   \n",
       "\n",
       "       population  households  median_income ocean_proximity  \n",
       "4309       2297.0       726.0         1.6760       <1H OCEAN  \n",
       "11096      1140.0       351.0         5.6163       <1H OCEAN  \n",
       "3912       3161.0      1280.0         3.1106       <1H OCEAN  \n",
       "15030      1198.0       499.0         3.4659       <1H OCEAN  \n",
       "10885      1510.0       622.0         4.2708       <1H OCEAN  "
      ]
     },
     "execution_count": 166,
     "metadata": {},
     "output_type": "execute_result"
    }
   ],
   "source": [
    "sample_incomplete_rows = housing[housing.isnull().any(axis=1)].head()\n",
    "sample_incomplete_rows"
   ]
  },
  {
   "cell_type": "markdown",
   "metadata": {},
   "source": [
    "## Three options to handle missing data "
   ]
  },
  {
   "cell_type": "markdown",
   "metadata": {},
   "source": [
    "### drop rows "
   ]
  },
  {
   "cell_type": "code",
   "execution_count": 167,
   "metadata": {},
   "outputs": [
    {
     "data": {
      "text/html": [
       "<div>\n",
       "<style scoped>\n",
       "    .dataframe tbody tr th:only-of-type {\n",
       "        vertical-align: middle;\n",
       "    }\n",
       "\n",
       "    .dataframe tbody tr th {\n",
       "        vertical-align: top;\n",
       "    }\n",
       "\n",
       "    .dataframe thead th {\n",
       "        text-align: right;\n",
       "    }\n",
       "</style>\n",
       "<table border=\"1\" class=\"dataframe\">\n",
       "  <thead>\n",
       "    <tr style=\"text-align: right;\">\n",
       "      <th></th>\n",
       "      <th>longitude</th>\n",
       "      <th>latitude</th>\n",
       "      <th>housing_median_age</th>\n",
       "      <th>total_rooms</th>\n",
       "      <th>total_bedrooms</th>\n",
       "      <th>population</th>\n",
       "      <th>households</th>\n",
       "      <th>median_income</th>\n",
       "      <th>ocean_proximity</th>\n",
       "    </tr>\n",
       "  </thead>\n",
       "  <tbody>\n",
       "  </tbody>\n",
       "</table>\n",
       "</div>"
      ],
      "text/plain": [
       "Empty DataFrame\n",
       "Columns: [longitude, latitude, housing_median_age, total_rooms, total_bedrooms, population, households, median_income, ocean_proximity]\n",
       "Index: []"
      ]
     },
     "execution_count": 167,
     "metadata": {},
     "output_type": "execute_result"
    }
   ],
   "source": [
    " # option 1\n",
    "sample_incomplete_rows.dropna(subset=[\"total_bedrooms\"])   "
   ]
  },
  {
   "cell_type": "markdown",
   "metadata": {},
   "source": [
    "### drop attributes (columns)"
   ]
  },
  {
   "cell_type": "code",
   "execution_count": 168,
   "metadata": {},
   "outputs": [
    {
     "data": {
      "text/html": [
       "<div>\n",
       "<style scoped>\n",
       "    .dataframe tbody tr th:only-of-type {\n",
       "        vertical-align: middle;\n",
       "    }\n",
       "\n",
       "    .dataframe tbody tr th {\n",
       "        vertical-align: top;\n",
       "    }\n",
       "\n",
       "    .dataframe thead th {\n",
       "        text-align: right;\n",
       "    }\n",
       "</style>\n",
       "<table border=\"1\" class=\"dataframe\">\n",
       "  <thead>\n",
       "    <tr style=\"text-align: right;\">\n",
       "      <th></th>\n",
       "      <th>longitude</th>\n",
       "      <th>latitude</th>\n",
       "      <th>housing_median_age</th>\n",
       "      <th>total_rooms</th>\n",
       "      <th>population</th>\n",
       "      <th>households</th>\n",
       "      <th>median_income</th>\n",
       "      <th>ocean_proximity</th>\n",
       "    </tr>\n",
       "  </thead>\n",
       "  <tbody>\n",
       "    <tr>\n",
       "      <th>4309</th>\n",
       "      <td>-118.32</td>\n",
       "      <td>34.09</td>\n",
       "      <td>44.0</td>\n",
       "      <td>2666.0</td>\n",
       "      <td>2297.0</td>\n",
       "      <td>726.0</td>\n",
       "      <td>1.6760</td>\n",
       "      <td>&lt;1H OCEAN</td>\n",
       "    </tr>\n",
       "    <tr>\n",
       "      <th>11096</th>\n",
       "      <td>-117.87</td>\n",
       "      <td>33.83</td>\n",
       "      <td>27.0</td>\n",
       "      <td>2287.0</td>\n",
       "      <td>1140.0</td>\n",
       "      <td>351.0</td>\n",
       "      <td>5.6163</td>\n",
       "      <td>&lt;1H OCEAN</td>\n",
       "    </tr>\n",
       "    <tr>\n",
       "      <th>3912</th>\n",
       "      <td>-118.55</td>\n",
       "      <td>34.19</td>\n",
       "      <td>18.0</td>\n",
       "      <td>5862.0</td>\n",
       "      <td>3161.0</td>\n",
       "      <td>1280.0</td>\n",
       "      <td>3.1106</td>\n",
       "      <td>&lt;1H OCEAN</td>\n",
       "    </tr>\n",
       "    <tr>\n",
       "      <th>15030</th>\n",
       "      <td>-117.02</td>\n",
       "      <td>32.78</td>\n",
       "      <td>31.0</td>\n",
       "      <td>2567.0</td>\n",
       "      <td>1198.0</td>\n",
       "      <td>499.0</td>\n",
       "      <td>3.4659</td>\n",
       "      <td>&lt;1H OCEAN</td>\n",
       "    </tr>\n",
       "    <tr>\n",
       "      <th>10885</th>\n",
       "      <td>-117.92</td>\n",
       "      <td>33.70</td>\n",
       "      <td>15.0</td>\n",
       "      <td>3201.0</td>\n",
       "      <td>1510.0</td>\n",
       "      <td>622.0</td>\n",
       "      <td>4.2708</td>\n",
       "      <td>&lt;1H OCEAN</td>\n",
       "    </tr>\n",
       "  </tbody>\n",
       "</table>\n",
       "</div>"
      ],
      "text/plain": [
       "       longitude  latitude  housing_median_age  total_rooms  population  \\\n",
       "4309     -118.32     34.09                44.0       2666.0      2297.0   \n",
       "11096    -117.87     33.83                27.0       2287.0      1140.0   \n",
       "3912     -118.55     34.19                18.0       5862.0      3161.0   \n",
       "15030    -117.02     32.78                31.0       2567.0      1198.0   \n",
       "10885    -117.92     33.70                15.0       3201.0      1510.0   \n",
       "\n",
       "       households  median_income ocean_proximity  \n",
       "4309        726.0         1.6760       <1H OCEAN  \n",
       "11096       351.0         5.6163       <1H OCEAN  \n",
       "3912       1280.0         3.1106       <1H OCEAN  \n",
       "15030       499.0         3.4659       <1H OCEAN  \n",
       "10885       622.0         4.2708       <1H OCEAN  "
      ]
     },
     "execution_count": 168,
     "metadata": {},
     "output_type": "execute_result"
    }
   ],
   "source": [
    "sample_incomplete_rows.drop(\"total_bedrooms\", axis=1)       # option 2"
   ]
  },
  {
   "cell_type": "markdown",
   "metadata": {},
   "source": [
    "### impute data"
   ]
  },
  {
   "cell_type": "code",
   "execution_count": 169,
   "metadata": {},
   "outputs": [
    {
     "data": {
      "text/html": [
       "<div>\n",
       "<style scoped>\n",
       "    .dataframe tbody tr th:only-of-type {\n",
       "        vertical-align: middle;\n",
       "    }\n",
       "\n",
       "    .dataframe tbody tr th {\n",
       "        vertical-align: top;\n",
       "    }\n",
       "\n",
       "    .dataframe thead th {\n",
       "        text-align: right;\n",
       "    }\n",
       "</style>\n",
       "<table border=\"1\" class=\"dataframe\">\n",
       "  <thead>\n",
       "    <tr style=\"text-align: right;\">\n",
       "      <th></th>\n",
       "      <th>longitude</th>\n",
       "      <th>latitude</th>\n",
       "      <th>housing_median_age</th>\n",
       "      <th>total_rooms</th>\n",
       "      <th>total_bedrooms</th>\n",
       "      <th>population</th>\n",
       "      <th>households</th>\n",
       "      <th>median_income</th>\n",
       "      <th>ocean_proximity</th>\n",
       "    </tr>\n",
       "  </thead>\n",
       "  <tbody>\n",
       "    <tr>\n",
       "      <th>4309</th>\n",
       "      <td>-118.32</td>\n",
       "      <td>34.09</td>\n",
       "      <td>44.0</td>\n",
       "      <td>2666.0</td>\n",
       "      <td>441.0</td>\n",
       "      <td>2297.0</td>\n",
       "      <td>726.0</td>\n",
       "      <td>1.6760</td>\n",
       "      <td>&lt;1H OCEAN</td>\n",
       "    </tr>\n",
       "    <tr>\n",
       "      <th>11096</th>\n",
       "      <td>-117.87</td>\n",
       "      <td>33.83</td>\n",
       "      <td>27.0</td>\n",
       "      <td>2287.0</td>\n",
       "      <td>441.0</td>\n",
       "      <td>1140.0</td>\n",
       "      <td>351.0</td>\n",
       "      <td>5.6163</td>\n",
       "      <td>&lt;1H OCEAN</td>\n",
       "    </tr>\n",
       "    <tr>\n",
       "      <th>3912</th>\n",
       "      <td>-118.55</td>\n",
       "      <td>34.19</td>\n",
       "      <td>18.0</td>\n",
       "      <td>5862.0</td>\n",
       "      <td>441.0</td>\n",
       "      <td>3161.0</td>\n",
       "      <td>1280.0</td>\n",
       "      <td>3.1106</td>\n",
       "      <td>&lt;1H OCEAN</td>\n",
       "    </tr>\n",
       "    <tr>\n",
       "      <th>15030</th>\n",
       "      <td>-117.02</td>\n",
       "      <td>32.78</td>\n",
       "      <td>31.0</td>\n",
       "      <td>2567.0</td>\n",
       "      <td>441.0</td>\n",
       "      <td>1198.0</td>\n",
       "      <td>499.0</td>\n",
       "      <td>3.4659</td>\n",
       "      <td>&lt;1H OCEAN</td>\n",
       "    </tr>\n",
       "    <tr>\n",
       "      <th>10885</th>\n",
       "      <td>-117.92</td>\n",
       "      <td>33.70</td>\n",
       "      <td>15.0</td>\n",
       "      <td>3201.0</td>\n",
       "      <td>441.0</td>\n",
       "      <td>1510.0</td>\n",
       "      <td>622.0</td>\n",
       "      <td>4.2708</td>\n",
       "      <td>&lt;1H OCEAN</td>\n",
       "    </tr>\n",
       "  </tbody>\n",
       "</table>\n",
       "</div>"
      ],
      "text/plain": [
       "       longitude  latitude  housing_median_age  total_rooms  total_bedrooms  \\\n",
       "4309     -118.32     34.09                44.0       2666.0           441.0   \n",
       "11096    -117.87     33.83                27.0       2287.0           441.0   \n",
       "3912     -118.55     34.19                18.0       5862.0           441.0   \n",
       "15030    -117.02     32.78                31.0       2567.0           441.0   \n",
       "10885    -117.92     33.70                15.0       3201.0           441.0   \n",
       "\n",
       "       population  households  median_income ocean_proximity  \n",
       "4309       2297.0       726.0         1.6760       <1H OCEAN  \n",
       "11096      1140.0       351.0         5.6163       <1H OCEAN  \n",
       "3912       3161.0      1280.0         3.1106       <1H OCEAN  \n",
       "15030      1198.0       499.0         3.4659       <1H OCEAN  \n",
       "10885      1510.0       622.0         4.2708       <1H OCEAN  "
      ]
     },
     "execution_count": 169,
     "metadata": {},
     "output_type": "execute_result"
    }
   ],
   "source": [
    "median = housing[\"total_bedrooms\"].median()\n",
    "sample_incomplete_rows[\"total_bedrooms\"].fillna(median, inplace=True) # option 3\n",
    "sample_incomplete_rows"
   ]
  },
  {
   "cell_type": "code",
   "execution_count": 170,
   "metadata": {},
   "outputs": [],
   "source": [
    "# Use the sklearn imputer class, select median as method \n",
    "from sklearn.impute import SimpleImputer\n",
    "imputer = SimpleImputer(strategy=\"median\")    "
   ]
  },
  {
   "cell_type": "code",
   "execution_count": 171,
   "metadata": {},
   "outputs": [
    {
     "data": {
      "text/plain": [
       "SimpleImputer(copy=True, fill_value=None, missing_values=nan,\n",
       "       strategy='median', verbose=0)"
      ]
     },
     "execution_count": 171,
     "metadata": {},
     "output_type": "execute_result"
    }
   ],
   "source": [
    "# remove text data, cannot impute \n",
    "# create copy \n",
    "housing_num = housing.drop('ocean_proximity', axis=1)\n",
    "\n",
    "# run imputer on numerical data \n",
    "imputer.fit(housing_num)"
   ]
  },
  {
   "cell_type": "code",
   "execution_count": 172,
   "metadata": {},
   "outputs": [
    {
     "data": {
      "text/plain": [
       "array([-118.455  ,   34.22   ,   28.     , 2158.5    ,  441.     ,\n",
       "       1172.     ,  416.     ,    3.51475])"
      ]
     },
     "execution_count": 172,
     "metadata": {},
     "output_type": "execute_result"
    }
   ],
   "source": [
    "# peak into estimators\n",
    "imputer.statistics_"
   ]
  },
  {
   "cell_type": "code",
   "execution_count": 173,
   "metadata": {},
   "outputs": [
    {
     "data": {
      "text/plain": [
       "array([-118.455  ,   34.22   ,   28.     , 2158.5    ,  441.     ,\n",
       "       1172.     ,  416.     ,    3.51475])"
      ]
     },
     "execution_count": 173,
     "metadata": {},
     "output_type": "execute_result"
    }
   ],
   "source": [
    "# sanity check values \n",
    "housing_num.median().values"
   ]
  },
  {
   "cell_type": "markdown",
   "metadata": {},
   "source": [
    "### Tranfsform training set "
   ]
  },
  {
   "cell_type": "code",
   "execution_count": 174,
   "metadata": {},
   "outputs": [],
   "source": [
    "X = imputer.transform(housing_num)"
   ]
  },
  {
   "cell_type": "code",
   "execution_count": 175,
   "metadata": {},
   "outputs": [
    {
     "data": {
      "text/html": [
       "<div>\n",
       "<style scoped>\n",
       "    .dataframe tbody tr th:only-of-type {\n",
       "        vertical-align: middle;\n",
       "    }\n",
       "\n",
       "    .dataframe tbody tr th {\n",
       "        vertical-align: top;\n",
       "    }\n",
       "\n",
       "    .dataframe thead th {\n",
       "        text-align: right;\n",
       "    }\n",
       "</style>\n",
       "<table border=\"1\" class=\"dataframe\">\n",
       "  <thead>\n",
       "    <tr style=\"text-align: right;\">\n",
       "      <th></th>\n",
       "      <th>longitude</th>\n",
       "      <th>latitude</th>\n",
       "      <th>housing_median_age</th>\n",
       "      <th>total_rooms</th>\n",
       "      <th>total_bedrooms</th>\n",
       "      <th>population</th>\n",
       "      <th>households</th>\n",
       "      <th>median_income</th>\n",
       "    </tr>\n",
       "  </thead>\n",
       "  <tbody>\n",
       "    <tr>\n",
       "      <th>5241</th>\n",
       "      <td>-118.39</td>\n",
       "      <td>34.12</td>\n",
       "      <td>29.0</td>\n",
       "      <td>6447.0</td>\n",
       "      <td>1012.0</td>\n",
       "      <td>2184.0</td>\n",
       "      <td>960.0</td>\n",
       "      <td>8.2816</td>\n",
       "    </tr>\n",
       "    <tr>\n",
       "      <th>10970</th>\n",
       "      <td>-117.86</td>\n",
       "      <td>33.77</td>\n",
       "      <td>39.0</td>\n",
       "      <td>4159.0</td>\n",
       "      <td>655.0</td>\n",
       "      <td>1669.0</td>\n",
       "      <td>651.0</td>\n",
       "      <td>4.6111</td>\n",
       "    </tr>\n",
       "    <tr>\n",
       "      <th>20351</th>\n",
       "      <td>-119.05</td>\n",
       "      <td>34.21</td>\n",
       "      <td>27.0</td>\n",
       "      <td>4357.0</td>\n",
       "      <td>926.0</td>\n",
       "      <td>2110.0</td>\n",
       "      <td>876.0</td>\n",
       "      <td>3.0119</td>\n",
       "    </tr>\n",
       "    <tr>\n",
       "      <th>6568</th>\n",
       "      <td>-118.15</td>\n",
       "      <td>34.20</td>\n",
       "      <td>52.0</td>\n",
       "      <td>1786.0</td>\n",
       "      <td>306.0</td>\n",
       "      <td>1018.0</td>\n",
       "      <td>322.0</td>\n",
       "      <td>4.1518</td>\n",
       "    </tr>\n",
       "    <tr>\n",
       "      <th>13285</th>\n",
       "      <td>-117.68</td>\n",
       "      <td>34.07</td>\n",
       "      <td>32.0</td>\n",
       "      <td>1775.0</td>\n",
       "      <td>314.0</td>\n",
       "      <td>1067.0</td>\n",
       "      <td>302.0</td>\n",
       "      <td>4.0375</td>\n",
       "    </tr>\n",
       "  </tbody>\n",
       "</table>\n",
       "</div>"
      ],
      "text/plain": [
       "       longitude  latitude  housing_median_age  total_rooms  total_bedrooms  \\\n",
       "5241     -118.39     34.12                29.0       6447.0          1012.0   \n",
       "10970    -117.86     33.77                39.0       4159.0           655.0   \n",
       "20351    -119.05     34.21                27.0       4357.0           926.0   \n",
       "6568     -118.15     34.20                52.0       1786.0           306.0   \n",
       "13285    -117.68     34.07                32.0       1775.0           314.0   \n",
       "\n",
       "       population  households  median_income  \n",
       "5241       2184.0       960.0         8.2816  \n",
       "10970      1669.0       651.0         4.6111  \n",
       "20351      2110.0       876.0         3.0119  \n",
       "6568       1018.0       322.0         4.1518  \n",
       "13285      1067.0       302.0         4.0375  "
      ]
     },
     "execution_count": 175,
     "metadata": {},
     "output_type": "execute_result"
    }
   ],
   "source": [
    "# convert back into dataframe \n",
    "housing_tr = pd.DataFrame(X, columns=housing_num.columns,\n",
    "                          index = housing.index.values)\n",
    "housing_tr.head()"
   ]
  },
  {
   "cell_type": "code",
   "execution_count": 176,
   "metadata": {},
   "outputs": [
    {
     "data": {
      "text/html": [
       "<div>\n",
       "<style scoped>\n",
       "    .dataframe tbody tr th:only-of-type {\n",
       "        vertical-align: middle;\n",
       "    }\n",
       "\n",
       "    .dataframe tbody tr th {\n",
       "        vertical-align: top;\n",
       "    }\n",
       "\n",
       "    .dataframe thead th {\n",
       "        text-align: right;\n",
       "    }\n",
       "</style>\n",
       "<table border=\"1\" class=\"dataframe\">\n",
       "  <thead>\n",
       "    <tr style=\"text-align: right;\">\n",
       "      <th></th>\n",
       "      <th>longitude</th>\n",
       "      <th>latitude</th>\n",
       "      <th>housing_median_age</th>\n",
       "      <th>total_rooms</th>\n",
       "      <th>total_bedrooms</th>\n",
       "      <th>population</th>\n",
       "      <th>households</th>\n",
       "      <th>median_income</th>\n",
       "    </tr>\n",
       "  </thead>\n",
       "  <tbody>\n",
       "    <tr>\n",
       "      <th>4309</th>\n",
       "      <td>-118.32</td>\n",
       "      <td>34.09</td>\n",
       "      <td>44.0</td>\n",
       "      <td>2666.0</td>\n",
       "      <td>441.0</td>\n",
       "      <td>2297.0</td>\n",
       "      <td>726.0</td>\n",
       "      <td>1.6760</td>\n",
       "    </tr>\n",
       "    <tr>\n",
       "      <th>11096</th>\n",
       "      <td>-117.87</td>\n",
       "      <td>33.83</td>\n",
       "      <td>27.0</td>\n",
       "      <td>2287.0</td>\n",
       "      <td>441.0</td>\n",
       "      <td>1140.0</td>\n",
       "      <td>351.0</td>\n",
       "      <td>5.6163</td>\n",
       "    </tr>\n",
       "    <tr>\n",
       "      <th>3912</th>\n",
       "      <td>-118.55</td>\n",
       "      <td>34.19</td>\n",
       "      <td>18.0</td>\n",
       "      <td>5862.0</td>\n",
       "      <td>441.0</td>\n",
       "      <td>3161.0</td>\n",
       "      <td>1280.0</td>\n",
       "      <td>3.1106</td>\n",
       "    </tr>\n",
       "    <tr>\n",
       "      <th>15030</th>\n",
       "      <td>-117.02</td>\n",
       "      <td>32.78</td>\n",
       "      <td>31.0</td>\n",
       "      <td>2567.0</td>\n",
       "      <td>441.0</td>\n",
       "      <td>1198.0</td>\n",
       "      <td>499.0</td>\n",
       "      <td>3.4659</td>\n",
       "    </tr>\n",
       "    <tr>\n",
       "      <th>10885</th>\n",
       "      <td>-117.92</td>\n",
       "      <td>33.70</td>\n",
       "      <td>15.0</td>\n",
       "      <td>3201.0</td>\n",
       "      <td>441.0</td>\n",
       "      <td>1510.0</td>\n",
       "      <td>622.0</td>\n",
       "      <td>4.2708</td>\n",
       "    </tr>\n",
       "  </tbody>\n",
       "</table>\n",
       "</div>"
      ],
      "text/plain": [
       "       longitude  latitude  housing_median_age  total_rooms  total_bedrooms  \\\n",
       "4309     -118.32     34.09                44.0       2666.0           441.0   \n",
       "11096    -117.87     33.83                27.0       2287.0           441.0   \n",
       "3912     -118.55     34.19                18.0       5862.0           441.0   \n",
       "15030    -117.02     32.78                31.0       2567.0           441.0   \n",
       "10885    -117.92     33.70                15.0       3201.0           441.0   \n",
       "\n",
       "       population  households  median_income  \n",
       "4309       2297.0       726.0         1.6760  \n",
       "11096      1140.0       351.0         5.6163  \n",
       "3912       3161.0      1280.0         3.1106  \n",
       "15030      1198.0       499.0         3.4659  \n",
       "10885      1510.0       622.0         4.2708  "
      ]
     },
     "execution_count": 176,
     "metadata": {},
     "output_type": "execute_result"
    }
   ],
   "source": [
    "# look at imputed data \n",
    "housing_tr.loc[sample_incomplete_rows.index.values]"
   ]
  },
  {
   "cell_type": "code",
   "execution_count": 177,
   "metadata": {},
   "outputs": [
    {
     "data": {
      "text/html": [
       "<div>\n",
       "<style scoped>\n",
       "    .dataframe tbody tr th:only-of-type {\n",
       "        vertical-align: middle;\n",
       "    }\n",
       "\n",
       "    .dataframe tbody tr th {\n",
       "        vertical-align: top;\n",
       "    }\n",
       "\n",
       "    .dataframe thead th {\n",
       "        text-align: right;\n",
       "    }\n",
       "</style>\n",
       "<table border=\"1\" class=\"dataframe\">\n",
       "  <thead>\n",
       "    <tr style=\"text-align: right;\">\n",
       "      <th></th>\n",
       "      <th>longitude</th>\n",
       "      <th>latitude</th>\n",
       "      <th>housing_median_age</th>\n",
       "      <th>total_rooms</th>\n",
       "      <th>total_bedrooms</th>\n",
       "      <th>population</th>\n",
       "      <th>households</th>\n",
       "      <th>median_income</th>\n",
       "    </tr>\n",
       "  </thead>\n",
       "  <tbody>\n",
       "    <tr>\n",
       "      <th>0</th>\n",
       "      <td>-118.39</td>\n",
       "      <td>34.12</td>\n",
       "      <td>29.0</td>\n",
       "      <td>6447.0</td>\n",
       "      <td>1012.0</td>\n",
       "      <td>2184.0</td>\n",
       "      <td>960.0</td>\n",
       "      <td>8.2816</td>\n",
       "    </tr>\n",
       "    <tr>\n",
       "      <th>1</th>\n",
       "      <td>-117.86</td>\n",
       "      <td>33.77</td>\n",
       "      <td>39.0</td>\n",
       "      <td>4159.0</td>\n",
       "      <td>655.0</td>\n",
       "      <td>1669.0</td>\n",
       "      <td>651.0</td>\n",
       "      <td>4.6111</td>\n",
       "    </tr>\n",
       "    <tr>\n",
       "      <th>2</th>\n",
       "      <td>-119.05</td>\n",
       "      <td>34.21</td>\n",
       "      <td>27.0</td>\n",
       "      <td>4357.0</td>\n",
       "      <td>926.0</td>\n",
       "      <td>2110.0</td>\n",
       "      <td>876.0</td>\n",
       "      <td>3.0119</td>\n",
       "    </tr>\n",
       "    <tr>\n",
       "      <th>3</th>\n",
       "      <td>-118.15</td>\n",
       "      <td>34.20</td>\n",
       "      <td>52.0</td>\n",
       "      <td>1786.0</td>\n",
       "      <td>306.0</td>\n",
       "      <td>1018.0</td>\n",
       "      <td>322.0</td>\n",
       "      <td>4.1518</td>\n",
       "    </tr>\n",
       "    <tr>\n",
       "      <th>4</th>\n",
       "      <td>-117.68</td>\n",
       "      <td>34.07</td>\n",
       "      <td>32.0</td>\n",
       "      <td>1775.0</td>\n",
       "      <td>314.0</td>\n",
       "      <td>1067.0</td>\n",
       "      <td>302.0</td>\n",
       "      <td>4.0375</td>\n",
       "    </tr>\n",
       "  </tbody>\n",
       "</table>\n",
       "</div>"
      ],
      "text/plain": [
       "   longitude  latitude  housing_median_age  total_rooms  total_bedrooms  \\\n",
       "0    -118.39     34.12                29.0       6447.0          1012.0   \n",
       "1    -117.86     33.77                39.0       4159.0           655.0   \n",
       "2    -119.05     34.21                27.0       4357.0           926.0   \n",
       "3    -118.15     34.20                52.0       1786.0           306.0   \n",
       "4    -117.68     34.07                32.0       1775.0           314.0   \n",
       "\n",
       "   population  households  median_income  \n",
       "0      2184.0       960.0         8.2816  \n",
       "1      1669.0       651.0         4.6111  \n",
       "2      2110.0       876.0         3.0119  \n",
       "3      1018.0       322.0         4.1518  \n",
       "4      1067.0       302.0         4.0375  "
      ]
     },
     "execution_count": 177,
     "metadata": {},
     "output_type": "execute_result"
    }
   ],
   "source": [
    "# clean index this time\n",
    "housing_tr = pd.DataFrame(X, columns=housing_num.columns)\n",
    "housing_tr.head()"
   ]
  },
  {
   "cell_type": "markdown",
   "metadata": {},
   "source": [
    "### Text Encoding"
   ]
  },
  {
   "cell_type": "code",
   "execution_count": 178,
   "metadata": {},
   "outputs": [],
   "source": [
    "from sklearn.preprocessing import  OneHotEncoder"
   ]
  },
  {
   "cell_type": "code",
   "execution_count": 179,
   "metadata": {},
   "outputs": [
    {
     "data": {
      "text/html": [
       "<div>\n",
       "<style scoped>\n",
       "    .dataframe tbody tr th:only-of-type {\n",
       "        vertical-align: middle;\n",
       "    }\n",
       "\n",
       "    .dataframe tbody tr th {\n",
       "        vertical-align: top;\n",
       "    }\n",
       "\n",
       "    .dataframe thead th {\n",
       "        text-align: right;\n",
       "    }\n",
       "</style>\n",
       "<table border=\"1\" class=\"dataframe\">\n",
       "  <thead>\n",
       "    <tr style=\"text-align: right;\">\n",
       "      <th></th>\n",
       "      <th>ocean_proximity</th>\n",
       "    </tr>\n",
       "  </thead>\n",
       "  <tbody>\n",
       "    <tr>\n",
       "      <th>5241</th>\n",
       "      <td>&lt;1H OCEAN</td>\n",
       "    </tr>\n",
       "    <tr>\n",
       "      <th>10970</th>\n",
       "      <td>&lt;1H OCEAN</td>\n",
       "    </tr>\n",
       "    <tr>\n",
       "      <th>20351</th>\n",
       "      <td>&lt;1H OCEAN</td>\n",
       "    </tr>\n",
       "    <tr>\n",
       "      <th>6568</th>\n",
       "      <td>INLAND</td>\n",
       "    </tr>\n",
       "    <tr>\n",
       "      <th>13285</th>\n",
       "      <td>INLAND</td>\n",
       "    </tr>\n",
       "  </tbody>\n",
       "</table>\n",
       "</div>"
      ],
      "text/plain": [
       "      ocean_proximity\n",
       "5241        <1H OCEAN\n",
       "10970       <1H OCEAN\n",
       "20351       <1H OCEAN\n",
       "6568           INLAND\n",
       "13285          INLAND"
      ]
     },
     "execution_count": 179,
     "metadata": {},
     "output_type": "execute_result"
    }
   ],
   "source": [
    "housing_cat = housing[['ocean_proximity']]\n",
    "housing_cat.head()"
   ]
  },
  {
   "cell_type": "code",
   "execution_count": 180,
   "metadata": {},
   "outputs": [
    {
     "data": {
      "text/plain": [
       "<4128x5 sparse matrix of type '<class 'numpy.float64'>'\n",
       "\twith 4128 stored elements in Compressed Sparse Row format>"
      ]
     },
     "execution_count": 180,
     "metadata": {},
     "output_type": "execute_result"
    }
   ],
   "source": [
    "cat_encoder =  OneHotEncoder()\n",
    "housing_cat_1hot = cat_encoder.fit_transform(housing_cat)\n",
    "housing_cat_1hot"
   ]
  },
  {
   "cell_type": "code",
   "execution_count": 181,
   "metadata": {},
   "outputs": [
    {
     "data": {
      "text/plain": [
       "array([[1., 0., 0., 0., 0.],\n",
       "       [1., 0., 0., 0., 0.],\n",
       "       [1., 0., 0., 0., 0.],\n",
       "       ...,\n",
       "       [1., 0., 0., 0., 0.],\n",
       "       [0., 1., 0., 0., 0.],\n",
       "       [0., 1., 0., 0., 0.]])"
      ]
     },
     "execution_count": 181,
     "metadata": {},
     "output_type": "execute_result"
    }
   ],
   "source": [
    "# to see full array \n",
    "housing_cat_1hot.toarray()"
   ]
  },
  {
   "cell_type": "code",
   "execution_count": 182,
   "metadata": {},
   "outputs": [
    {
     "data": {
      "text/plain": [
       "[array(['<1H OCEAN', 'INLAND', 'ISLAND', 'NEAR BAY', 'NEAR OCEAN'],\n",
       "       dtype=object)]"
      ]
     },
     "execution_count": 182,
     "metadata": {},
     "output_type": "execute_result"
    }
   ],
   "source": [
    "# view categories text\n",
    "cat_encoder.categories_"
   ]
  },
  {
   "cell_type": "markdown",
   "metadata": {},
   "source": [
    "### Custom Transformers"
   ]
  },
  {
   "cell_type": "code",
   "execution_count": 183,
   "metadata": {},
   "outputs": [
    {
     "data": {
      "text/plain": [
       "3"
      ]
     },
     "execution_count": 183,
     "metadata": {},
     "output_type": "execute_result"
    }
   ],
   "source": [
    "list(housing.columns).index(\"total_rooms\")"
   ]
  },
  {
   "cell_type": "code",
   "execution_count": 184,
   "metadata": {},
   "outputs": [],
   "source": [
    "from sklearn.base import BaseEstimator, TransformerMixin\n",
    "\n",
    "# get the right column indices: safer than hard-coding indices 3, 4, 5, 6\n",
    "rooms_ix, bedrooms_ix, population_ix, household_ix = [\n",
    "    list(housing.columns).index(col)\n",
    "    for col in (\"total_rooms\", \"total_bedrooms\", \"population\", \"households\")]\n",
    "\n",
    "class CombinedAttributesAdder(BaseEstimator, TransformerMixin):\n",
    "    def __init__(self, add_bedrooms_per_room = True): # no *args or **kargs\n",
    "        self.add_bedrooms_per_room = add_bedrooms_per_room\n",
    "    def fit(self, X, y=None):\n",
    "        return self  # nothing else to do\n",
    "    def transform(self, X, y=None):\n",
    "        rooms_per_household = X[:, rooms_ix] / X[:, household_ix]\n",
    "        population_per_household = X[:, population_ix] / X[:, household_ix]\n",
    "        if self.add_bedrooms_per_room:\n",
    "            bedrooms_per_room = X[:, bedrooms_ix] / X[:, rooms_ix]\n",
    "            return np.c_[X, rooms_per_household, population_per_household,\n",
    "                         bedrooms_per_room]\n",
    "        else:\n",
    "            return np.c_[X, rooms_per_household, population_per_household]\n",
    "\n",
    "attr_adder = CombinedAttributesAdder(add_bedrooms_per_room=False)\n",
    "housing_extra_attribs = attr_adder.transform(housing.values)"
   ]
  },
  {
   "cell_type": "code",
   "execution_count": 185,
   "metadata": {},
   "outputs": [],
   "source": [
    "# Yet another method \n",
    "from sklearn.preprocessing import FunctionTransformer\n",
    "\n",
    "def add_extra_features(X, add_bedrooms_per_room=True):\n",
    "    rooms_per_household = X[:, rooms_ix] / X[:, household_ix]\n",
    "    population_per_household = X[:, population_ix] / X[:, household_ix]\n",
    "    if add_bedrooms_per_room:\n",
    "        bedrooms_per_room = X[:, bedrooms_ix] / X[:, rooms_ix]\n",
    "        return np.c_[X, rooms_per_household, population_per_household,\n",
    "                     bedrooms_per_room]\n",
    "    else:\n",
    "        return np.c_[X, rooms_per_household, population_per_household]\n",
    "\n",
    "attr_adder = FunctionTransformer(add_extra_features, validate=False,\n",
    "                                 kw_args={\"add_bedrooms_per_room\": False})\n",
    "housing_extra_attribs = attr_adder.fit_transform(housing.values)"
   ]
  },
  {
   "cell_type": "code",
   "execution_count": 186,
   "metadata": {},
   "outputs": [
    {
     "data": {
      "text/plain": [
       "array([[-118.39, 34.12, 29.0, 6447.0, 1012.0, 2184.0, 960.0, 8.2816,\n",
       "        '<1H OCEAN', 6.715625, 2.275],\n",
       "       [-117.86, 33.77, 39.0, 4159.0, 655.0, 1669.0, 651.0, 4.6111,\n",
       "        '<1H OCEAN', 6.38863287250384, 2.563748079877112],\n",
       "       [-119.05, 34.21, 27.0, 4357.0, 926.0, 2110.0, 876.0, 3.0119,\n",
       "        '<1H OCEAN', 4.973744292237443, 2.4086757990867578]], dtype=object)"
      ]
     },
     "execution_count": 186,
     "metadata": {},
     "output_type": "execute_result"
    }
   ],
   "source": [
    "housing_extra_attribs[0:3]"
   ]
  },
  {
   "cell_type": "code",
   "execution_count": 187,
   "metadata": {},
   "outputs": [
    {
     "data": {
      "text/html": [
       "<div>\n",
       "<style scoped>\n",
       "    .dataframe tbody tr th:only-of-type {\n",
       "        vertical-align: middle;\n",
       "    }\n",
       "\n",
       "    .dataframe tbody tr th {\n",
       "        vertical-align: top;\n",
       "    }\n",
       "\n",
       "    .dataframe thead th {\n",
       "        text-align: right;\n",
       "    }\n",
       "</style>\n",
       "<table border=\"1\" class=\"dataframe\">\n",
       "  <thead>\n",
       "    <tr style=\"text-align: right;\">\n",
       "      <th></th>\n",
       "      <th>longitude</th>\n",
       "      <th>latitude</th>\n",
       "      <th>housing_median_age</th>\n",
       "      <th>total_rooms</th>\n",
       "      <th>total_bedrooms</th>\n",
       "      <th>population</th>\n",
       "      <th>households</th>\n",
       "      <th>median_income</th>\n",
       "      <th>ocean_proximity</th>\n",
       "      <th>rooms_per_household</th>\n",
       "      <th>population_per_household</th>\n",
       "    </tr>\n",
       "  </thead>\n",
       "  <tbody>\n",
       "    <tr>\n",
       "      <th>0</th>\n",
       "      <td>-118.39</td>\n",
       "      <td>34.12</td>\n",
       "      <td>29</td>\n",
       "      <td>6447</td>\n",
       "      <td>1012</td>\n",
       "      <td>2184</td>\n",
       "      <td>960</td>\n",
       "      <td>8.2816</td>\n",
       "      <td>&lt;1H OCEAN</td>\n",
       "      <td>6.71563</td>\n",
       "      <td>2.275</td>\n",
       "    </tr>\n",
       "    <tr>\n",
       "      <th>1</th>\n",
       "      <td>-117.86</td>\n",
       "      <td>33.77</td>\n",
       "      <td>39</td>\n",
       "      <td>4159</td>\n",
       "      <td>655</td>\n",
       "      <td>1669</td>\n",
       "      <td>651</td>\n",
       "      <td>4.6111</td>\n",
       "      <td>&lt;1H OCEAN</td>\n",
       "      <td>6.38863</td>\n",
       "      <td>2.56375</td>\n",
       "    </tr>\n",
       "    <tr>\n",
       "      <th>2</th>\n",
       "      <td>-119.05</td>\n",
       "      <td>34.21</td>\n",
       "      <td>27</td>\n",
       "      <td>4357</td>\n",
       "      <td>926</td>\n",
       "      <td>2110</td>\n",
       "      <td>876</td>\n",
       "      <td>3.0119</td>\n",
       "      <td>&lt;1H OCEAN</td>\n",
       "      <td>4.97374</td>\n",
       "      <td>2.40868</td>\n",
       "    </tr>\n",
       "    <tr>\n",
       "      <th>3</th>\n",
       "      <td>-118.15</td>\n",
       "      <td>34.2</td>\n",
       "      <td>52</td>\n",
       "      <td>1786</td>\n",
       "      <td>306</td>\n",
       "      <td>1018</td>\n",
       "      <td>322</td>\n",
       "      <td>4.1518</td>\n",
       "      <td>INLAND</td>\n",
       "      <td>5.54658</td>\n",
       "      <td>3.16149</td>\n",
       "    </tr>\n",
       "    <tr>\n",
       "      <th>4</th>\n",
       "      <td>-117.68</td>\n",
       "      <td>34.07</td>\n",
       "      <td>32</td>\n",
       "      <td>1775</td>\n",
       "      <td>314</td>\n",
       "      <td>1067</td>\n",
       "      <td>302</td>\n",
       "      <td>4.0375</td>\n",
       "      <td>INLAND</td>\n",
       "      <td>5.87748</td>\n",
       "      <td>3.53311</td>\n",
       "    </tr>\n",
       "  </tbody>\n",
       "</table>\n",
       "</div>"
      ],
      "text/plain": [
       "  longitude latitude housing_median_age total_rooms total_bedrooms population  \\\n",
       "0   -118.39    34.12                 29        6447           1012       2184   \n",
       "1   -117.86    33.77                 39        4159            655       1669   \n",
       "2   -119.05    34.21                 27        4357            926       2110   \n",
       "3   -118.15     34.2                 52        1786            306       1018   \n",
       "4   -117.68    34.07                 32        1775            314       1067   \n",
       "\n",
       "  households median_income ocean_proximity rooms_per_household  \\\n",
       "0        960        8.2816       <1H OCEAN             6.71563   \n",
       "1        651        4.6111       <1H OCEAN             6.38863   \n",
       "2        876        3.0119       <1H OCEAN             4.97374   \n",
       "3        322        4.1518          INLAND             5.54658   \n",
       "4        302        4.0375          INLAND             5.87748   \n",
       "\n",
       "  population_per_household  \n",
       "0                    2.275  \n",
       "1                  2.56375  \n",
       "2                  2.40868  \n",
       "3                  3.16149  \n",
       "4                  3.53311  "
      ]
     },
     "execution_count": 187,
     "metadata": {},
     "output_type": "execute_result"
    }
   ],
   "source": [
    "housing_extra_attribs = pd.DataFrame(housing_extra_attribs, columns=list(\n",
    "    housing.columns)+[\"rooms_per_household\", \"population_per_household\"])\n",
    "housing_extra_attribs.head()"
   ]
  },
  {
   "cell_type": "markdown",
   "metadata": {},
   "source": [
    "### Transformation Pipelines"
   ]
  },
  {
   "cell_type": "code",
   "execution_count": 188,
   "metadata": {},
   "outputs": [],
   "source": [
    "from sklearn.pipeline import Pipeline\n",
    "from sklearn.preprocessing import StandardScaler\n",
    "\n",
    "num_pipeline = Pipeline([\n",
    "        ('imputer', SimpleImputer(strategy=\"median\")),\n",
    "        ('attribs_adder', FunctionTransformer(add_extra_features, validate=False)),\n",
    "        ('std_scaler', StandardScaler()),\n",
    "    ])\n",
    "\n",
    "housing_num_tr = num_pipeline.fit_transform(housing_num)"
   ]
  },
  {
   "cell_type": "code",
   "execution_count": 189,
   "metadata": {},
   "outputs": [
    {
     "data": {
      "text/plain": [
       "array([[ 0.57471497, -0.69620912,  0.03285951, ...,  0.73090182,\n",
       "        -0.43707996, -0.8842083 ],\n",
       "       [ 0.83839441, -0.86074221,  0.82471029, ...,  0.55147147,\n",
       "        -0.25483994, -0.8762043 ],\n",
       "       [ 0.24635944, -0.65390061, -0.12551065, ..., -0.22492016,\n",
       "        -0.35271202, -0.02496691],\n",
       "       ...,\n",
       "       [ 0.52496413, -0.66800344,  0.19122966, ..., -0.48888899,\n",
       "        -0.50176243,  0.08016752],\n",
       "       [ 1.10704893, -0.75732141, -0.12551065, ...,  0.63227321,\n",
       "        -0.06103921, -0.90599188],\n",
       "       [ 0.31601062,  0.55894333, -0.75899128, ...,  8.13018121,\n",
       "        -0.39763381, -0.21111508]])"
      ]
     },
     "execution_count": 189,
     "metadata": {},
     "output_type": "execute_result"
    }
   ],
   "source": [
    "housing_num_tr"
   ]
  },
  {
   "cell_type": "code",
   "execution_count": 190,
   "metadata": {},
   "outputs": [],
   "source": [
    "# Now we can combine both pipelines numerical and categorical into one \n",
    "from sklearn.compose import ColumnTransformer\n",
    "num_attribs = list(housing_num)\n",
    "cat_attribs = [\"ocean_proximity\"]\n",
    "\n",
    "full_pipeline = ColumnTransformer([\n",
    "        (\"num\", num_pipeline, num_attribs),\n",
    "        (\"cat\", OneHotEncoder(), cat_attribs),\n",
    "    ])\n",
    "\n",
    "housing_prepared = full_pipeline.fit_transform(housing)"
   ]
  },
  {
   "cell_type": "code",
   "execution_count": 191,
   "metadata": {},
   "outputs": [
    {
     "data": {
      "text/plain": [
       "array([[ 0.57471497, -0.69620912,  0.03285951, ...,  0.        ,\n",
       "         0.        ,  0.        ],\n",
       "       [ 0.83839441, -0.86074221,  0.82471029, ...,  0.        ,\n",
       "         0.        ,  0.        ],\n",
       "       [ 0.24635944, -0.65390061, -0.12551065, ...,  0.        ,\n",
       "         0.        ,  0.        ],\n",
       "       ...,\n",
       "       [ 0.52496413, -0.66800344,  0.19122966, ...,  0.        ,\n",
       "         0.        ,  0.        ],\n",
       "       [ 1.10704893, -0.75732141, -0.12551065, ...,  0.        ,\n",
       "         0.        ,  0.        ],\n",
       "       [ 0.31601062,  0.55894333, -0.75899128, ...,  0.        ,\n",
       "         0.        ,  0.        ]])"
      ]
     },
     "execution_count": 191,
     "metadata": {},
     "output_type": "execute_result"
    }
   ],
   "source": [
    "housing_prepared"
   ]
  },
  {
   "cell_type": "code",
   "execution_count": 192,
   "metadata": {},
   "outputs": [
    {
     "data": {
      "text/plain": [
       "(4128, 16)"
      ]
     },
     "execution_count": 192,
     "metadata": {},
     "output_type": "execute_result"
    }
   ],
   "source": [
    "housing_prepared.shape\n"
   ]
  },
  {
   "cell_type": "markdown",
   "metadata": {},
   "source": [
    "The new matrix contains the original columns transformed plus 5 more columns for the categorical encoder data\n"
   ]
  },
  {
   "cell_type": "code",
   "execution_count": 193,
   "metadata": {},
   "outputs": [
    {
     "data": {
      "text/plain": [
       "['data/interim/housing_labels.pkl']"
      ]
     },
     "execution_count": 193,
     "metadata": {},
     "output_type": "execute_result"
    }
   ],
   "source": [
    "# Save the transformed data\n",
    "from sklearn.externals import joblib\n",
    "joblib.dump(housing_prepared, 'data/interim/'+'housing_prepared'+'.pkl') \n",
    "joblib.dump(housing_labels, 'data/interim/'+'housing_labels'+'.pkl') "
   ]
  },
  {
   "cell_type": "markdown",
   "metadata": {},
   "source": [
    "# Explore models"
   ]
  },
  {
   "cell_type": "code",
   "execution_count": 194,
   "metadata": {},
   "outputs": [],
   "source": [
    "# Load saved transformed data\n",
    "from sklearn.externals import joblib\n",
    "housing_prepared = joblib.load('data/interim/'+'housing_prepared'+'.pkl') \n",
    "housing_labels = joblib.load('data/interim/'+'housing_labels'+'.pkl') "
   ]
  },
  {
   "cell_type": "markdown",
   "metadata": {},
   "source": [
    "## Linear Regression "
   ]
  },
  {
   "cell_type": "code",
   "execution_count": 195,
   "metadata": {},
   "outputs": [
    {
     "data": {
      "text/plain": [
       "LinearRegression(copy_X=True, fit_intercept=True, n_jobs=None,\n",
       "         normalize=False)"
      ]
     },
     "execution_count": 195,
     "metadata": {},
     "output_type": "execute_result"
    }
   ],
   "source": [
    "from sklearn.linear_model import LinearRegression\n",
    "\n",
    "# instantiate model \n",
    "lin_reg = LinearRegression()\n",
    "# feed the model data and labels \n",
    "lin_reg.fit(housing_prepared, housing_labels)"
   ]
  },
  {
   "cell_type": "code",
   "execution_count": 196,
   "metadata": {},
   "outputs": [
    {
     "name": "stdout",
     "output_type": "stream",
     "text": [
      "Predictions: [421744.42249999 260114.72443261 223619.75780631 197841.21049675\n",
      " 162428.02376156]\n"
     ]
    }
   ],
   "source": [
    "# let's try the full preprocessing pipeline on a few training instances\n",
    "some_data = housing_df.iloc[:5]\n",
    "some_labels = housing_labels.iloc[:5]\n",
    "some_data_prepared = full_pipeline.transform(some_data)\n",
    "\n",
    "print(\"Predictions:\", lin_reg.predict(some_data_prepared))"
   ]
  },
  {
   "cell_type": "code",
   "execution_count": 197,
   "metadata": {},
   "outputs": [
    {
     "name": "stdout",
     "output_type": "stream",
     "text": [
      "Labels: [500001.0, 240300.0, 218200.0, 182100.0, 121300.0]\n"
     ]
    }
   ],
   "source": [
    "print(\"Labels:\", list(some_labels))"
   ]
  },
  {
   "cell_type": "code",
   "execution_count": 198,
   "metadata": {},
   "outputs": [
    {
     "name": "stdout",
     "output_type": "stream",
     "text": [
      "Prediction: 421744 \t Label: 500001 \n",
      "Prediction: 260114 \t Label: 240300 \n",
      "Prediction: 223619 \t Label: 218200 \n",
      "Prediction: 197841 \t Label: 182100 \n",
      "Prediction: 162428 \t Label: 121300 \n"
     ]
    }
   ],
   "source": [
    "for pred, label in zip( lin_reg.predict(some_data_prepared), list(some_labels) ): \n",
    "    print('Prediction: {} \\t Label: {} '.format(int(pred),int( label)))\n"
   ]
  },
  {
   "cell_type": "code",
   "execution_count": 199,
   "metadata": {},
   "outputs": [
    {
     "data": {
      "text/html": [
       "<div>\n",
       "<style scoped>\n",
       "    .dataframe tbody tr th:only-of-type {\n",
       "        vertical-align: middle;\n",
       "    }\n",
       "\n",
       "    .dataframe tbody tr th {\n",
       "        vertical-align: top;\n",
       "    }\n",
       "\n",
       "    .dataframe thead th {\n",
       "        text-align: right;\n",
       "    }\n",
       "</style>\n",
       "<table border=\"1\" class=\"dataframe\">\n",
       "  <thead>\n",
       "    <tr style=\"text-align: right;\">\n",
       "      <th></th>\n",
       "      <th>Labels</th>\n",
       "      <th>Predictions</th>\n",
       "    </tr>\n",
       "  </thead>\n",
       "  <tbody>\n",
       "    <tr>\n",
       "      <th>0</th>\n",
       "      <td>500001.0</td>\n",
       "      <td>421744.422500</td>\n",
       "    </tr>\n",
       "    <tr>\n",
       "      <th>1</th>\n",
       "      <td>240300.0</td>\n",
       "      <td>260114.724433</td>\n",
       "    </tr>\n",
       "    <tr>\n",
       "      <th>2</th>\n",
       "      <td>218200.0</td>\n",
       "      <td>223619.757806</td>\n",
       "    </tr>\n",
       "    <tr>\n",
       "      <th>3</th>\n",
       "      <td>182100.0</td>\n",
       "      <td>197841.210497</td>\n",
       "    </tr>\n",
       "    <tr>\n",
       "      <th>4</th>\n",
       "      <td>121300.0</td>\n",
       "      <td>162428.023762</td>\n",
       "    </tr>\n",
       "  </tbody>\n",
       "</table>\n",
       "</div>"
      ],
      "text/plain": [
       "     Labels    Predictions\n",
       "0  500001.0  421744.422500\n",
       "1  240300.0  260114.724433\n",
       "2  218200.0  223619.757806\n",
       "3  182100.0  197841.210497\n",
       "4  121300.0  162428.023762"
      ]
     },
     "execution_count": 199,
     "metadata": {},
     "output_type": "execute_result"
    }
   ],
   "source": [
    "pd.DataFrame({'Predictions': list( lin_reg.predict(some_data_prepared)) , 'Labels': list(some_labels)})"
   ]
  },
  {
   "cell_type": "markdown",
   "metadata": {},
   "source": [
    "### Model performance "
   ]
  },
  {
   "cell_type": "code",
   "execution_count": 200,
   "metadata": {},
   "outputs": [
    {
     "data": {
      "text/plain": [
       "66786.21496458739"
      ]
     },
     "execution_count": 200,
     "metadata": {},
     "output_type": "execute_result"
    }
   ],
   "source": [
    "from sklearn.metrics import mean_squared_error\n",
    "\n",
    "housing_predictions = lin_reg.predict(housing_prepared)\n",
    "lin_mse = mean_squared_error(housing_labels, housing_predictions)\n",
    "lin_rmse = np.sqrt(lin_mse)\n",
    "lin_rmse"
   ]
  },
  {
   "cell_type": "code",
   "execution_count": 201,
   "metadata": {},
   "outputs": [
    {
     "data": {
      "text/plain": [
       "48821.51499475819"
      ]
     },
     "execution_count": 201,
     "metadata": {},
     "output_type": "execute_result"
    }
   ],
   "source": [
    "from sklearn.metrics import mean_absolute_error\n",
    "\n",
    "lin_mae = mean_absolute_error(housing_labels, housing_predictions)\n",
    "lin_mae"
   ]
  },
  {
   "cell_type": "markdown",
   "metadata": {},
   "source": [
    "## Decision Tree "
   ]
  },
  {
   "cell_type": "code",
   "execution_count": 70,
   "metadata": {},
   "outputs": [
    {
     "data": {
      "text/plain": [
       "DecisionTreeRegressor(criterion='mse', max_depth=None, max_features=None,\n",
       "           max_leaf_nodes=None, min_impurity_decrease=0.0,\n",
       "           min_impurity_split=None, min_samples_leaf=1,\n",
       "           min_samples_split=2, min_weight_fraction_leaf=0.0,\n",
       "           presort=False, random_state=42, splitter='best')"
      ]
     },
     "execution_count": 70,
     "metadata": {},
     "output_type": "execute_result"
    }
   ],
   "source": [
    "from sklearn.tree import DecisionTreeRegressor\n",
    "\n",
    "tree_reg = DecisionTreeRegressor(random_state=42)\n",
    "tree_reg.fit(housing_prepared, housing_labels)"
   ]
  },
  {
   "cell_type": "code",
   "execution_count": 71,
   "metadata": {},
   "outputs": [
    {
     "data": {
      "text/plain": [
       "0.0"
      ]
     },
     "execution_count": 71,
     "metadata": {},
     "output_type": "execute_result"
    }
   ],
   "source": [
    "housing_predictions = tree_reg.predict(housing_prepared)\n",
    "tree_mse = mean_squared_error(housing_labels, housing_predictions)\n",
    "tree_rmse = np.sqrt(tree_mse)\n",
    "tree_rmse"
   ]
  },
  {
   "cell_type": "markdown",
   "metadata": {},
   "source": [
    "### Model Performance "
   ]
  },
  {
   "cell_type": "code",
   "execution_count": 72,
   "metadata": {},
   "outputs": [
    {
     "data": {
      "text/html": [
       "<div>\n",
       "<style scoped>\n",
       "    .dataframe tbody tr th:only-of-type {\n",
       "        vertical-align: middle;\n",
       "    }\n",
       "\n",
       "    .dataframe tbody tr th {\n",
       "        vertical-align: top;\n",
       "    }\n",
       "\n",
       "    .dataframe thead th {\n",
       "        text-align: right;\n",
       "    }\n",
       "</style>\n",
       "<table border=\"1\" class=\"dataframe\">\n",
       "  <thead>\n",
       "    <tr style=\"text-align: right;\">\n",
       "      <th></th>\n",
       "      <th>Labels</th>\n",
       "      <th>Predictions</th>\n",
       "    </tr>\n",
       "  </thead>\n",
       "  <tbody>\n",
       "    <tr>\n",
       "      <th>0</th>\n",
       "      <td>286600.0</td>\n",
       "      <td>286600.0</td>\n",
       "    </tr>\n",
       "    <tr>\n",
       "      <th>1</th>\n",
       "      <td>340600.0</td>\n",
       "      <td>340600.0</td>\n",
       "    </tr>\n",
       "    <tr>\n",
       "      <th>2</th>\n",
       "      <td>196900.0</td>\n",
       "      <td>196900.0</td>\n",
       "    </tr>\n",
       "    <tr>\n",
       "      <th>3</th>\n",
       "      <td>46300.0</td>\n",
       "      <td>46300.0</td>\n",
       "    </tr>\n",
       "    <tr>\n",
       "      <th>4</th>\n",
       "      <td>254500.0</td>\n",
       "      <td>254500.0</td>\n",
       "    </tr>\n",
       "  </tbody>\n",
       "</table>\n",
       "</div>"
      ],
      "text/plain": [
       "     Labels  Predictions\n",
       "0  286600.0     286600.0\n",
       "1  340600.0     340600.0\n",
       "2  196900.0     196900.0\n",
       "3   46300.0      46300.0\n",
       "4  254500.0     254500.0"
      ]
     },
     "execution_count": 72,
     "metadata": {},
     "output_type": "execute_result"
    }
   ],
   "source": [
    "pd.DataFrame({'Predictions': list(housing_predictions) , 'Labels': list(housing_labels)}).head()"
   ]
  },
  {
   "cell_type": "markdown",
   "metadata": {},
   "source": [
    "# Fine tune model"
   ]
  },
  {
   "cell_type": "markdown",
   "metadata": {},
   "source": [
    "## Decision Tree Regression "
   ]
  },
  {
   "cell_type": "code",
   "execution_count": 73,
   "metadata": {},
   "outputs": [],
   "source": [
    "from sklearn.model_selection import cross_val_score\n",
    "\n",
    "scores = cross_val_score(tree_reg, housing_prepared, housing_labels,\n",
    "                         scoring=\"neg_mean_squared_error\", cv=10)\n",
    "# cv expects a utility function instead of cost function \n",
    "tree_rmse_scores = np.sqrt(-scores)"
   ]
  },
  {
   "cell_type": "code",
   "execution_count": 74,
   "metadata": {},
   "outputs": [
    {
     "name": "stdout",
     "output_type": "stream",
     "text": [
      "Scores: [70194.33680785 66855.16363941 72432.58244769 70758.73896782\n",
      " 71115.88230639 75585.14172901 70262.86139133 70273.6325285\n",
      " 75366.87952553 71231.65726027]\n",
      "Mean: 71407.68766037929\n",
      "Standard deviation: 2439.4345041191004\n"
     ]
    }
   ],
   "source": [
    "def display_scores(scores):\n",
    "    print(\"Scores:\", scores)\n",
    "    print(\"Mean:\", scores.mean())\n",
    "    print(\"Standard deviation:\", scores.std())\n",
    "\n",
    "display_scores(tree_rmse_scores)"
   ]
  },
  {
   "cell_type": "markdown",
   "metadata": {},
   "source": [
    "This is peforming worse than linear regression "
   ]
  },
  {
   "cell_type": "markdown",
   "metadata": {},
   "source": [
    "## Linear Regression "
   ]
  },
  {
   "cell_type": "code",
   "execution_count": 75,
   "metadata": {},
   "outputs": [
    {
     "name": "stdout",
     "output_type": "stream",
     "text": [
      "Scores: [66782.73843989 66960.118071   70347.95244419 74739.57052552\n",
      " 68031.13388938 71193.84183426 64969.63056405 68281.61137997\n",
      " 71552.91566558 67665.10082067]\n",
      "Mean: 69052.46136345083\n",
      "Standard deviation: 2731.674001798347\n"
     ]
    }
   ],
   "source": [
    "lin_scores = cross_val_score(lin_reg, housing_prepared, housing_labels,\n",
    "                             scoring=\"neg_mean_squared_error\", cv=10)\n",
    "lin_rmse_scores = np.sqrt(-lin_scores)\n",
    "display_scores(lin_rmse_scores)"
   ]
  },
  {
   "cell_type": "markdown",
   "metadata": {},
   "source": [
    "## Random Forrest Regression "
   ]
  },
  {
   "cell_type": "code",
   "execution_count": 213,
   "metadata": {},
   "outputs": [
    {
     "data": {
      "text/plain": [
       "RandomForestRegressor(bootstrap=True, criterion='mse', max_depth=None,\n",
       "           max_features=8, max_leaf_nodes=None, min_impurity_decrease=0.0,\n",
       "           min_impurity_split=None, min_samples_leaf=1,\n",
       "           min_samples_split=2, min_weight_fraction_leaf=0.0,\n",
       "           n_estimators=30, n_jobs=None, oob_score=False, random_state=42,\n",
       "           verbose=0, warm_start=False)"
      ]
     },
     "execution_count": 213,
     "metadata": {},
     "output_type": "execute_result"
    }
   ],
   "source": [
    "from sklearn.ensemble import RandomForestRegressor\n",
    "\n",
    "forest_reg = RandomForestRegressor(n_estimators=30, max_features=8, random_state=42)\n",
    "forest_reg.fit(housing_prepared, housing_labels)"
   ]
  },
  {
   "cell_type": "code",
   "execution_count": 215,
   "metadata": {},
   "outputs": [
    {
     "data": {
      "text/plain": [
       "20387.03184603207"
      ]
     },
     "execution_count": 215,
     "metadata": {},
     "output_type": "execute_result"
    }
   ],
   "source": [
    "housing_predictions = forest_reg.predict(housing_prepared)\n",
    "forest_mse = mean_squared_error(housing_labels, housing_predictions)\n",
    "forest_rmse = np.sqrt(forest_mse)\n",
    "forest_rmse"
   ]
  },
  {
   "cell_type": "code",
   "execution_count": 78,
   "metadata": {},
   "outputs": [
    {
     "name": "stdout",
     "output_type": "stream",
     "text": [
      "Scores: [51646.44545909 48940.60114882 53050.86323649 54408.98730149\n",
      " 50922.14870785 56482.50703987 51864.52025526 49760.85037653\n",
      " 55434.21627933 53326.10093303]\n",
      "Mean: 52583.72407377466\n",
      "Standard deviation: 2298.353351147122\n"
     ]
    }
   ],
   "source": [
    "from sklearn.model_selection import cross_val_score\n",
    "\n",
    "forest_scores = cross_val_score(forest_reg, housing_prepared, housing_labels,\n",
    "                                scoring=\"neg_mean_squared_error\", cv=10)\n",
    "forest_rmse_scores = np.sqrt(-forest_scores)\n",
    "display_scores(forest_rmse_scores)"
   ]
  },
  {
   "cell_type": "markdown",
   "metadata": {},
   "source": [
    "## Support Vector Machines (linear kernel)\n",
    "\n",
    "A low C makes the decision surface smooth, while a high C aims at classifying all training examples correctly. gamma defines how much influence a single training example has. The larger gamma is, the closer other examples must be to be affected."
   ]
  },
  {
   "cell_type": "code",
   "execution_count": 79,
   "metadata": {},
   "outputs": [
    {
     "data": {
      "text/plain": [
       "111094.6308539982"
      ]
     },
     "execution_count": 79,
     "metadata": {},
     "output_type": "execute_result"
    }
   ],
   "source": [
    "from sklearn.svm import SVR\n",
    "\n",
    "svm_reg = SVR(kernel=\"linear\")\n",
    "svm_reg.fit(housing_prepared, housing_labels)\n",
    "housing_predictions = svm_reg.predict(housing_prepared)\n",
    "svm_mse = mean_squared_error(housing_labels, housing_predictions)\n",
    "svm_rmse = np.sqrt(svm_mse)\n",
    "svm_rmse"
   ]
  },
  {
   "cell_type": "code",
   "execution_count": 80,
   "metadata": {},
   "outputs": [
    {
     "name": "stdout",
     "output_type": "stream",
     "text": [
      "Scores: [105342.09141998 112489.24624123 110092.35042753 113403.22892482\n",
      " 110638.90119657 115675.8320024  110703.56887243 114476.89008206\n",
      " 113756.17971227 111520.1120808 ]\n",
      "Mean: 111809.84009600841\n",
      "Standard deviation: 2762.393664321567\n"
     ]
    }
   ],
   "source": [
    "svm_scores = cross_val_score(svm_reg, housing_prepared, housing_labels,\n",
    "                             scoring=\"neg_mean_squared_error\", cv=10)\n",
    "svm_rmse_scores = np.sqrt(-svm_scores)\n",
    "display_scores(svm_rmse_scores)"
   ]
  },
  {
   "cell_type": "code",
   "execution_count": 81,
   "metadata": {},
   "outputs": [
    {
     "data": {
      "text/plain": [
       "118577.43356412371"
      ]
     },
     "execution_count": 81,
     "metadata": {},
     "output_type": "execute_result"
    }
   ],
   "source": [
    "# rbf kernel \n",
    "svm_reg = SVR(kernel=\"rbf\", gamma='auto')\n",
    "svm_reg.fit(housing_prepared, housing_labels)\n",
    "housing_predictions = svm_reg.predict(housing_prepared)\n",
    "svm_mse = mean_squared_error(housing_labels, housing_predictions)\n",
    "svm_rmse = np.sqrt(svm_mse)\n",
    "svm_rmse"
   ]
  },
  {
   "cell_type": "code",
   "execution_count": 82,
   "metadata": {},
   "outputs": [
    {
     "name": "stdout",
     "output_type": "stream",
     "text": [
      "Scores: [111393.33263237 119546.71049753 116961.00489445 120449.0155974\n",
      " 117622.20149716 122303.76986818 117640.09907103 121459.63518806\n",
      " 120348.51364519 118025.61954959]\n",
      "Mean: 118574.99024409598\n",
      "Standard deviation: 2934.1329433145675\n"
     ]
    }
   ],
   "source": [
    "svm_scores = cross_val_score(svm_reg, housing_prepared, housing_labels,\n",
    "                             scoring=\"neg_mean_squared_error\", cv=10)\n",
    "svm_rmse_scores = np.sqrt(-svm_scores)\n",
    "display_scores(svm_rmse_scores)"
   ]
  },
  {
   "cell_type": "markdown",
   "metadata": {},
   "source": [
    "## Grid Search \n",
    "- Grid search helps you find the best hyper parameters \n",
    "- In the case below there will be $(3*4 + 2*3)*5=(12 + 6)*5 = 90$ trainings"
   ]
  },
  {
   "cell_type": "code",
   "execution_count": 88,
   "metadata": {},
   "outputs": [
    {
     "data": {
      "text/plain": [
       "GridSearchCV(cv=5, error_score='raise-deprecating',\n",
       "       estimator=RandomForestRegressor(bootstrap=True, criterion='mse', max_depth=None,\n",
       "           max_features='auto', max_leaf_nodes=None,\n",
       "           min_impurity_decrease=0.0, min_impurity_split=None,\n",
       "           min_samples_leaf=1, min_samples_split=2,\n",
       "           min_weight_fraction_leaf=0.0, n_estimators='warn', n_jobs=None,\n",
       "           oob_score=False, random_state=42, verbose=0, warm_start=False),\n",
       "       fit_params=None, iid='warn', n_jobs=-1,\n",
       "       param_grid=[{'max_features': [2, 4, 6, 8], 'n_estimators': [3, 10, 30]}, {'max_features': [2, 3, 4], 'bootstrap': [False], 'n_estimators': [3, 10]}],\n",
       "       pre_dispatch='2*n_jobs', refit=True, return_train_score=True,\n",
       "       scoring='neg_mean_squared_error', verbose=0)"
      ]
     },
     "execution_count": 88,
     "metadata": {},
     "output_type": "execute_result"
    }
   ],
   "source": [
    "from sklearn.model_selection import GridSearchCV\n",
    "\n",
    "param_grid = [\n",
    "    # try 12 (3×4) combinations of hyperparameters\n",
    "    {'n_estimators': [3, 10, 30], 'max_features': [2, 4, 6, 8]},\n",
    "    # then try 6 (2×3) combinations with bootstrap set as False\n",
    "    {'bootstrap': [False], 'n_estimators': [3, 10], 'max_features': [2, 3, 4]},\n",
    "  ]\n",
    "\n",
    "forest_reg = RandomForestRegressor(random_state=42)\n",
    "# train across 5 folds, that's a total of (12+6)*5=90 rounds of training \n",
    "grid_search = GridSearchCV(forest_reg, param_grid, cv=5,n_jobs=-1,\n",
    "                           scoring='neg_mean_squared_error', return_train_score=True)\n",
    "grid_search.fit(housing_prepared, housing_labels)"
   ]
  },
  {
   "cell_type": "code",
   "execution_count": 89,
   "metadata": {},
   "outputs": [
    {
     "name": "stdout",
     "output_type": "stream",
     "text": [
      "The best hyperparameter combination found: {'max_features': 8, 'n_estimators': 30}\n"
     ]
    }
   ],
   "source": [
    "print('The best hyperparameter combination found: {}'.format(grid_search.best_params_)) "
   ]
  },
  {
   "cell_type": "code",
   "execution_count": 90,
   "metadata": {},
   "outputs": [
    {
     "data": {
      "text/plain": [
       "RandomForestRegressor(bootstrap=True, criterion='mse', max_depth=None,\n",
       "           max_features=8, max_leaf_nodes=None, min_impurity_decrease=0.0,\n",
       "           min_impurity_split=None, min_samples_leaf=1,\n",
       "           min_samples_split=2, min_weight_fraction_leaf=0.0,\n",
       "           n_estimators=30, n_jobs=None, oob_score=False, random_state=42,\n",
       "           verbose=0, warm_start=False)"
      ]
     },
     "execution_count": 90,
     "metadata": {},
     "output_type": "execute_result"
    }
   ],
   "source": [
    "# parameters for best estimator \n",
    "grid_search.best_estimator_"
   ]
  },
  {
   "cell_type": "markdown",
   "metadata": {},
   "source": [
    "### Looking at the score for each hyper parameters combination \n"
   ]
  },
  {
   "cell_type": "code",
   "execution_count": 93,
   "metadata": {},
   "outputs": [
    {
     "name": "stdout",
     "output_type": "stream",
     "text": [
      "63669 {'max_features': 2, 'n_estimators': 3}\n",
      "55627 {'max_features': 2, 'n_estimators': 10}\n",
      "53384 {'max_features': 2, 'n_estimators': 30}\n",
      "60965 {'max_features': 4, 'n_estimators': 3}\n",
      "52740 {'max_features': 4, 'n_estimators': 10}\n",
      "50377 {'max_features': 4, 'n_estimators': 30}\n",
      "58663 {'max_features': 6, 'n_estimators': 3}\n",
      "52006 {'max_features': 6, 'n_estimators': 10}\n",
      "50146 {'max_features': 6, 'n_estimators': 30}\n",
      "57869 {'max_features': 8, 'n_estimators': 3}\n",
      "51711 {'max_features': 8, 'n_estimators': 10}\n",
      "49682 {'max_features': 8, 'n_estimators': 30}\n",
      "62895 {'max_features': 2, 'bootstrap': False, 'n_estimators': 3}\n",
      "54658 {'max_features': 2, 'bootstrap': False, 'n_estimators': 10}\n",
      "59470 {'max_features': 3, 'bootstrap': False, 'n_estimators': 3}\n",
      "52725 {'max_features': 3, 'bootstrap': False, 'n_estimators': 10}\n",
      "57490 {'max_features': 4, 'bootstrap': False, 'n_estimators': 3}\n",
      "51009 {'max_features': 4, 'bootstrap': False, 'n_estimators': 10}\n"
     ]
    }
   ],
   "source": [
    "cvres = grid_search.cv_results_\n",
    "for mean_score, params in zip(cvres[\"mean_test_score\"], cvres[\"params\"]):\n",
    "    print(int(np.sqrt(-mean_score)), params)"
   ]
  },
  {
   "cell_type": "code",
   "execution_count": 95,
   "metadata": {},
   "outputs": [
    {
     "data": {
      "text/html": [
       "<div>\n",
       "<style scoped>\n",
       "    .dataframe tbody tr th:only-of-type {\n",
       "        vertical-align: middle;\n",
       "    }\n",
       "\n",
       "    .dataframe tbody tr th {\n",
       "        vertical-align: top;\n",
       "    }\n",
       "\n",
       "    .dataframe thead th {\n",
       "        text-align: right;\n",
       "    }\n",
       "</style>\n",
       "<table border=\"1\" class=\"dataframe\">\n",
       "  <thead>\n",
       "    <tr style=\"text-align: right;\">\n",
       "      <th></th>\n",
       "      <th>mean_fit_time</th>\n",
       "      <th>mean_score_time</th>\n",
       "      <th>mean_test_score</th>\n",
       "      <th>mean_train_score</th>\n",
       "      <th>param_bootstrap</th>\n",
       "      <th>param_max_features</th>\n",
       "      <th>param_n_estimators</th>\n",
       "      <th>params</th>\n",
       "      <th>rank_test_score</th>\n",
       "      <th>split0_test_score</th>\n",
       "      <th>...</th>\n",
       "      <th>split2_test_score</th>\n",
       "      <th>split2_train_score</th>\n",
       "      <th>split3_test_score</th>\n",
       "      <th>split3_train_score</th>\n",
       "      <th>split4_test_score</th>\n",
       "      <th>split4_train_score</th>\n",
       "      <th>std_fit_time</th>\n",
       "      <th>std_score_time</th>\n",
       "      <th>std_test_score</th>\n",
       "      <th>std_train_score</th>\n",
       "    </tr>\n",
       "  </thead>\n",
       "  <tbody>\n",
       "    <tr>\n",
       "      <th>11</th>\n",
       "      <td>4.064164</td>\n",
       "      <td>0.059429</td>\n",
       "      <td>-2.468326e+09</td>\n",
       "      <td>-3.810330e+08</td>\n",
       "      <td>NaN</td>\n",
       "      <td>8</td>\n",
       "      <td>30</td>\n",
       "      <td>{'max_features': 8, 'n_estimators': 30}</td>\n",
       "      <td>1</td>\n",
       "      <td>-2.357390e+09</td>\n",
       "      <td>...</td>\n",
       "      <td>-2.591972e+09</td>\n",
       "      <td>-3.773239e+08</td>\n",
       "      <td>-2.318617e+09</td>\n",
       "      <td>-3.882250e+08</td>\n",
       "      <td>-2.527022e+09</td>\n",
       "      <td>-3.810005e+08</td>\n",
       "      <td>0.404483</td>\n",
       "      <td>0.002880</td>\n",
       "      <td>1.091647e+08</td>\n",
       "      <td>4.871017e+06</td>\n",
       "    </tr>\n",
       "    <tr>\n",
       "      <th>8</th>\n",
       "      <td>2.937759</td>\n",
       "      <td>0.059645</td>\n",
       "      <td>-2.514668e+09</td>\n",
       "      <td>-3.841296e+08</td>\n",
       "      <td>NaN</td>\n",
       "      <td>6</td>\n",
       "      <td>30</td>\n",
       "      <td>{'max_features': 6, 'n_estimators': 30}</td>\n",
       "      <td>2</td>\n",
       "      <td>-2.370010e+09</td>\n",
       "      <td>...</td>\n",
       "      <td>-2.607703e+09</td>\n",
       "      <td>-3.805218e+08</td>\n",
       "      <td>-2.350953e+09</td>\n",
       "      <td>-3.856095e+08</td>\n",
       "      <td>-2.661059e+09</td>\n",
       "      <td>-3.901917e+08</td>\n",
       "      <td>0.122489</td>\n",
       "      <td>0.008977</td>\n",
       "      <td>1.285063e+08</td>\n",
       "      <td>3.617057e+06</td>\n",
       "    </tr>\n",
       "    <tr>\n",
       "      <th>5</th>\n",
       "      <td>2.330431</td>\n",
       "      <td>0.055278</td>\n",
       "      <td>-2.537877e+09</td>\n",
       "      <td>-3.879289e+08</td>\n",
       "      <td>NaN</td>\n",
       "      <td>4</td>\n",
       "      <td>30</td>\n",
       "      <td>{'max_features': 4, 'n_estimators': 30}</td>\n",
       "      <td>3</td>\n",
       "      <td>-2.387153e+09</td>\n",
       "      <td>...</td>\n",
       "      <td>-2.666426e+09</td>\n",
       "      <td>-3.790867e+08</td>\n",
       "      <td>-2.398071e+09</td>\n",
       "      <td>-4.040957e+08</td>\n",
       "      <td>-2.649316e+09</td>\n",
       "      <td>-3.845520e+08</td>\n",
       "      <td>0.119909</td>\n",
       "      <td>0.003061</td>\n",
       "      <td>1.214603e+08</td>\n",
       "      <td>8.571233e+06</td>\n",
       "    </tr>\n",
       "    <tr>\n",
       "      <th>17</th>\n",
       "      <td>0.973174</td>\n",
       "      <td>0.026840</td>\n",
       "      <td>-2.601971e+09</td>\n",
       "      <td>-3.028238e-03</td>\n",
       "      <td>False</td>\n",
       "      <td>4</td>\n",
       "      <td>10</td>\n",
       "      <td>{'max_features': 4, 'bootstrap': False, 'n_est...</td>\n",
       "      <td>4</td>\n",
       "      <td>-2.525578e+09</td>\n",
       "      <td>...</td>\n",
       "      <td>-2.609100e+09</td>\n",
       "      <td>-0.000000e+00</td>\n",
       "      <td>-2.439607e+09</td>\n",
       "      <td>-0.000000e+00</td>\n",
       "      <td>-2.725548e+09</td>\n",
       "      <td>-0.000000e+00</td>\n",
       "      <td>0.273368</td>\n",
       "      <td>0.004484</td>\n",
       "      <td>1.088031e+08</td>\n",
       "      <td>6.056477e-03</td>\n",
       "    </tr>\n",
       "    <tr>\n",
       "      <th>10</th>\n",
       "      <td>1.300818</td>\n",
       "      <td>0.020300</td>\n",
       "      <td>-2.674037e+09</td>\n",
       "      <td>-4.923911e+08</td>\n",
       "      <td>NaN</td>\n",
       "      <td>8</td>\n",
       "      <td>10</td>\n",
       "      <td>{'max_features': 8, 'n_estimators': 10}</td>\n",
       "      <td>5</td>\n",
       "      <td>-2.571970e+09</td>\n",
       "      <td>...</td>\n",
       "      <td>-2.842317e+09</td>\n",
       "      <td>-4.730979e+08</td>\n",
       "      <td>-2.460258e+09</td>\n",
       "      <td>-5.155367e+08</td>\n",
       "      <td>-2.776666e+09</td>\n",
       "      <td>-4.985555e+08</td>\n",
       "      <td>0.201836</td>\n",
       "      <td>0.001093</td>\n",
       "      <td>1.392720e+08</td>\n",
       "      <td>1.459294e+07</td>\n",
       "    </tr>\n",
       "    <tr>\n",
       "      <th>7</th>\n",
       "      <td>0.964808</td>\n",
       "      <td>0.019093</td>\n",
       "      <td>-2.704640e+09</td>\n",
       "      <td>-5.013349e+08</td>\n",
       "      <td>NaN</td>\n",
       "      <td>6</td>\n",
       "      <td>10</td>\n",
       "      <td>{'max_features': 6, 'n_estimators': 10}</td>\n",
       "      <td>6</td>\n",
       "      <td>-2.549663e+09</td>\n",
       "      <td>...</td>\n",
       "      <td>-2.762720e+09</td>\n",
       "      <td>-4.994664e+08</td>\n",
       "      <td>-2.521134e+09</td>\n",
       "      <td>-4.990325e+08</td>\n",
       "      <td>-2.907667e+09</td>\n",
       "      <td>-5.055542e+08</td>\n",
       "      <td>0.109002</td>\n",
       "      <td>0.001723</td>\n",
       "      <td>1.471542e+08</td>\n",
       "      <td>3.100456e+06</td>\n",
       "    </tr>\n",
       "    <tr>\n",
       "      <th>15</th>\n",
       "      <td>0.884290</td>\n",
       "      <td>0.028934</td>\n",
       "      <td>-2.779927e+09</td>\n",
       "      <td>-5.272080e+00</td>\n",
       "      <td>False</td>\n",
       "      <td>3</td>\n",
       "      <td>10</td>\n",
       "      <td>{'max_features': 3, 'bootstrap': False, 'n_est...</td>\n",
       "      <td>7</td>\n",
       "      <td>-2.757999e+09</td>\n",
       "      <td>...</td>\n",
       "      <td>-2.830927e+09</td>\n",
       "      <td>-0.000000e+00</td>\n",
       "      <td>-2.672765e+09</td>\n",
       "      <td>-0.000000e+00</td>\n",
       "      <td>-2.786190e+09</td>\n",
       "      <td>-5.465556e+00</td>\n",
       "      <td>0.060172</td>\n",
       "      <td>0.004476</td>\n",
       "      <td>6.286611e+07</td>\n",
       "      <td>8.093117e+00</td>\n",
       "    </tr>\n",
       "    <tr>\n",
       "      <th>4</th>\n",
       "      <td>0.706228</td>\n",
       "      <td>0.020196</td>\n",
       "      <td>-2.781611e+09</td>\n",
       "      <td>-5.163863e+08</td>\n",
       "      <td>NaN</td>\n",
       "      <td>4</td>\n",
       "      <td>10</td>\n",
       "      <td>{'max_features': 4, 'n_estimators': 10}</td>\n",
       "      <td>8</td>\n",
       "      <td>-2.666283e+09</td>\n",
       "      <td>...</td>\n",
       "      <td>-2.892276e+09</td>\n",
       "      <td>-4.962893e+08</td>\n",
       "      <td>-2.616813e+09</td>\n",
       "      <td>-5.436192e+08</td>\n",
       "      <td>-2.948207e+09</td>\n",
       "      <td>-5.160297e+08</td>\n",
       "      <td>0.089629</td>\n",
       "      <td>0.000925</td>\n",
       "      <td>1.268562e+08</td>\n",
       "      <td>1.542862e+07</td>\n",
       "    </tr>\n",
       "    <tr>\n",
       "      <th>2</th>\n",
       "      <td>1.357404</td>\n",
       "      <td>0.057439</td>\n",
       "      <td>-2.849913e+09</td>\n",
       "      <td>-4.394734e+08</td>\n",
       "      <td>NaN</td>\n",
       "      <td>2</td>\n",
       "      <td>30</td>\n",
       "      <td>{'max_features': 2, 'n_estimators': 30}</td>\n",
       "      <td>9</td>\n",
       "      <td>-2.689185e+09</td>\n",
       "      <td>...</td>\n",
       "      <td>-2.948330e+09</td>\n",
       "      <td>-4.371702e+08</td>\n",
       "      <td>-2.619995e+09</td>\n",
       "      <td>-4.376955e+08</td>\n",
       "      <td>-2.970968e+09</td>\n",
       "      <td>-4.452654e+08</td>\n",
       "      <td>0.126047</td>\n",
       "      <td>0.003608</td>\n",
       "      <td>1.626879e+08</td>\n",
       "      <td>2.966320e+06</td>\n",
       "    </tr>\n",
       "    <tr>\n",
       "      <th>13</th>\n",
       "      <td>0.743918</td>\n",
       "      <td>0.026225</td>\n",
       "      <td>-2.987513e+09</td>\n",
       "      <td>-6.056027e-01</td>\n",
       "      <td>False</td>\n",
       "      <td>2</td>\n",
       "      <td>10</td>\n",
       "      <td>{'max_features': 2, 'bootstrap': False, 'n_est...</td>\n",
       "      <td>10</td>\n",
       "      <td>-2.810721e+09</td>\n",
       "      <td>...</td>\n",
       "      <td>-3.131187e+09</td>\n",
       "      <td>-0.000000e+00</td>\n",
       "      <td>-2.788537e+09</td>\n",
       "      <td>-0.000000e+00</td>\n",
       "      <td>-3.099347e+09</td>\n",
       "      <td>-2.967449e+00</td>\n",
       "      <td>0.070890</td>\n",
       "      <td>0.001440</td>\n",
       "      <td>1.539231e+08</td>\n",
       "      <td>1.181156e+00</td>\n",
       "    </tr>\n",
       "    <tr>\n",
       "      <th>1</th>\n",
       "      <td>0.374311</td>\n",
       "      <td>0.037677</td>\n",
       "      <td>-3.094381e+09</td>\n",
       "      <td>-5.818785e+08</td>\n",
       "      <td>NaN</td>\n",
       "      <td>2</td>\n",
       "      <td>10</td>\n",
       "      <td>{'max_features': 2, 'n_estimators': 10}</td>\n",
       "      <td>11</td>\n",
       "      <td>-3.047771e+09</td>\n",
       "      <td>...</td>\n",
       "      <td>-3.130196e+09</td>\n",
       "      <td>-5.776964e+08</td>\n",
       "      <td>-2.865188e+09</td>\n",
       "      <td>-5.716332e+08</td>\n",
       "      <td>-3.173856e+09</td>\n",
       "      <td>-5.802501e+08</td>\n",
       "      <td>0.104401</td>\n",
       "      <td>0.022670</td>\n",
       "      <td>1.327046e+08</td>\n",
       "      <td>7.345821e+06</td>\n",
       "    </tr>\n",
       "    <tr>\n",
       "      <th>16</th>\n",
       "      <td>0.286329</td>\n",
       "      <td>0.011245</td>\n",
       "      <td>-3.305171e+09</td>\n",
       "      <td>0.000000e+00</td>\n",
       "      <td>False</td>\n",
       "      <td>4</td>\n",
       "      <td>3</td>\n",
       "      <td>{'max_features': 4, 'bootstrap': False, 'n_est...</td>\n",
       "      <td>12</td>\n",
       "      <td>-3.134040e+09</td>\n",
       "      <td>...</td>\n",
       "      <td>-3.440422e+09</td>\n",
       "      <td>-0.000000e+00</td>\n",
       "      <td>-3.053647e+09</td>\n",
       "      <td>-0.000000e+00</td>\n",
       "      <td>-3.338344e+09</td>\n",
       "      <td>-0.000000e+00</td>\n",
       "      <td>0.043896</td>\n",
       "      <td>0.004216</td>\n",
       "      <td>1.879203e+08</td>\n",
       "      <td>0.000000e+00</td>\n",
       "    </tr>\n",
       "    <tr>\n",
       "      <th>9</th>\n",
       "      <td>0.317087</td>\n",
       "      <td>0.011888</td>\n",
       "      <td>-3.348851e+09</td>\n",
       "      <td>-8.883545e+08</td>\n",
       "      <td>NaN</td>\n",
       "      <td>8</td>\n",
       "      <td>3</td>\n",
       "      <td>{'max_features': 8, 'n_estimators': 3}</td>\n",
       "      <td>13</td>\n",
       "      <td>-3.353504e+09</td>\n",
       "      <td>...</td>\n",
       "      <td>-3.402843e+09</td>\n",
       "      <td>-8.603321e+08</td>\n",
       "      <td>-3.129307e+09</td>\n",
       "      <td>-8.881964e+08</td>\n",
       "      <td>-3.510047e+09</td>\n",
       "      <td>-9.151287e+08</td>\n",
       "      <td>0.073351</td>\n",
       "      <td>0.011021</td>\n",
       "      <td>1.241864e+08</td>\n",
       "      <td>2.750227e+07</td>\n",
       "    </tr>\n",
       "    <tr>\n",
       "      <th>6</th>\n",
       "      <td>0.269791</td>\n",
       "      <td>0.010515</td>\n",
       "      <td>-3.441447e+09</td>\n",
       "      <td>-9.023976e+08</td>\n",
       "      <td>NaN</td>\n",
       "      <td>6</td>\n",
       "      <td>3</td>\n",
       "      <td>{'max_features': 6, 'n_estimators': 3}</td>\n",
       "      <td>14</td>\n",
       "      <td>-3.119657e+09</td>\n",
       "      <td>...</td>\n",
       "      <td>-3.592772e+09</td>\n",
       "      <td>-9.353135e+08</td>\n",
       "      <td>-3.328934e+09</td>\n",
       "      <td>-9.009801e+08</td>\n",
       "      <td>-3.579607e+09</td>\n",
       "      <td>-8.624664e+08</td>\n",
       "      <td>0.051322</td>\n",
       "      <td>0.005590</td>\n",
       "      <td>1.893141e+08</td>\n",
       "      <td>2.591445e+07</td>\n",
       "    </tr>\n",
       "    <tr>\n",
       "      <th>14</th>\n",
       "      <td>0.190376</td>\n",
       "      <td>0.010889</td>\n",
       "      <td>-3.536728e+09</td>\n",
       "      <td>-1.214568e+01</td>\n",
       "      <td>False</td>\n",
       "      <td>3</td>\n",
       "      <td>3</td>\n",
       "      <td>{'max_features': 3, 'bootstrap': False, 'n_est...</td>\n",
       "      <td>15</td>\n",
       "      <td>-3.618324e+09</td>\n",
       "      <td>...</td>\n",
       "      <td>-3.554815e+09</td>\n",
       "      <td>-0.000000e+00</td>\n",
       "      <td>-3.619116e+09</td>\n",
       "      <td>-0.000000e+00</td>\n",
       "      <td>-3.449864e+09</td>\n",
       "      <td>-6.072840e+01</td>\n",
       "      <td>0.086099</td>\n",
       "      <td>0.002074</td>\n",
       "      <td>7.795196e+07</td>\n",
       "      <td>2.429136e+01</td>\n",
       "    </tr>\n",
       "    <tr>\n",
       "      <th>3</th>\n",
       "      <td>0.172614</td>\n",
       "      <td>0.008314</td>\n",
       "      <td>-3.716852e+09</td>\n",
       "      <td>-9.848396e+08</td>\n",
       "      <td>NaN</td>\n",
       "      <td>4</td>\n",
       "      <td>3</td>\n",
       "      <td>{'max_features': 4, 'n_estimators': 3}</td>\n",
       "      <td>16</td>\n",
       "      <td>-3.730181e+09</td>\n",
       "      <td>...</td>\n",
       "      <td>-3.734515e+09</td>\n",
       "      <td>-9.169425e+08</td>\n",
       "      <td>-3.418747e+09</td>\n",
       "      <td>-1.037400e+09</td>\n",
       "      <td>-3.913907e+09</td>\n",
       "      <td>-9.707739e+08</td>\n",
       "      <td>0.061670</td>\n",
       "      <td>0.002904</td>\n",
       "      <td>1.631421e+08</td>\n",
       "      <td>4.084607e+07</td>\n",
       "    </tr>\n",
       "    <tr>\n",
       "      <th>12</th>\n",
       "      <td>0.132593</td>\n",
       "      <td>0.011496</td>\n",
       "      <td>-3.955792e+09</td>\n",
       "      <td>0.000000e+00</td>\n",
       "      <td>False</td>\n",
       "      <td>2</td>\n",
       "      <td>3</td>\n",
       "      <td>{'max_features': 2, 'bootstrap': False, 'n_est...</td>\n",
       "      <td>17</td>\n",
       "      <td>-3.785816e+09</td>\n",
       "      <td>...</td>\n",
       "      <td>-4.061751e+09</td>\n",
       "      <td>-0.000000e+00</td>\n",
       "      <td>-3.675704e+09</td>\n",
       "      <td>-0.000000e+00</td>\n",
       "      <td>-4.089667e+09</td>\n",
       "      <td>-0.000000e+00</td>\n",
       "      <td>0.011843</td>\n",
       "      <td>0.004679</td>\n",
       "      <td>1.900966e+08</td>\n",
       "      <td>0.000000e+00</td>\n",
       "    </tr>\n",
       "    <tr>\n",
       "      <th>0</th>\n",
       "      <td>0.150303</td>\n",
       "      <td>0.015075</td>\n",
       "      <td>-4.053749e+09</td>\n",
       "      <td>-1.105559e+09</td>\n",
       "      <td>NaN</td>\n",
       "      <td>2</td>\n",
       "      <td>3</td>\n",
       "      <td>{'max_features': 2, 'n_estimators': 3}</td>\n",
       "      <td>18</td>\n",
       "      <td>-3.837622e+09</td>\n",
       "      <td>...</td>\n",
       "      <td>-4.196408e+09</td>\n",
       "      <td>-1.116550e+09</td>\n",
       "      <td>-3.903319e+09</td>\n",
       "      <td>-1.112342e+09</td>\n",
       "      <td>-4.184325e+09</td>\n",
       "      <td>-1.129650e+09</td>\n",
       "      <td>0.039307</td>\n",
       "      <td>0.009494</td>\n",
       "      <td>1.519609e+08</td>\n",
       "      <td>2.220402e+07</td>\n",
       "    </tr>\n",
       "  </tbody>\n",
       "</table>\n",
       "<p>18 rows × 23 columns</p>\n",
       "</div>"
      ],
      "text/plain": [
       "    mean_fit_time  mean_score_time  mean_test_score  mean_train_score  \\\n",
       "11       4.064164         0.059429    -2.468326e+09     -3.810330e+08   \n",
       "8        2.937759         0.059645    -2.514668e+09     -3.841296e+08   \n",
       "5        2.330431         0.055278    -2.537877e+09     -3.879289e+08   \n",
       "17       0.973174         0.026840    -2.601971e+09     -3.028238e-03   \n",
       "10       1.300818         0.020300    -2.674037e+09     -4.923911e+08   \n",
       "7        0.964808         0.019093    -2.704640e+09     -5.013349e+08   \n",
       "15       0.884290         0.028934    -2.779927e+09     -5.272080e+00   \n",
       "4        0.706228         0.020196    -2.781611e+09     -5.163863e+08   \n",
       "2        1.357404         0.057439    -2.849913e+09     -4.394734e+08   \n",
       "13       0.743918         0.026225    -2.987513e+09     -6.056027e-01   \n",
       "1        0.374311         0.037677    -3.094381e+09     -5.818785e+08   \n",
       "16       0.286329         0.011245    -3.305171e+09      0.000000e+00   \n",
       "9        0.317087         0.011888    -3.348851e+09     -8.883545e+08   \n",
       "6        0.269791         0.010515    -3.441447e+09     -9.023976e+08   \n",
       "14       0.190376         0.010889    -3.536728e+09     -1.214568e+01   \n",
       "3        0.172614         0.008314    -3.716852e+09     -9.848396e+08   \n",
       "12       0.132593         0.011496    -3.955792e+09      0.000000e+00   \n",
       "0        0.150303         0.015075    -4.053749e+09     -1.105559e+09   \n",
       "\n",
       "   param_bootstrap param_max_features param_n_estimators  \\\n",
       "11             NaN                  8                 30   \n",
       "8              NaN                  6                 30   \n",
       "5              NaN                  4                 30   \n",
       "17           False                  4                 10   \n",
       "10             NaN                  8                 10   \n",
       "7              NaN                  6                 10   \n",
       "15           False                  3                 10   \n",
       "4              NaN                  4                 10   \n",
       "2              NaN                  2                 30   \n",
       "13           False                  2                 10   \n",
       "1              NaN                  2                 10   \n",
       "16           False                  4                  3   \n",
       "9              NaN                  8                  3   \n",
       "6              NaN                  6                  3   \n",
       "14           False                  3                  3   \n",
       "3              NaN                  4                  3   \n",
       "12           False                  2                  3   \n",
       "0              NaN                  2                  3   \n",
       "\n",
       "                                               params  rank_test_score  \\\n",
       "11            {'max_features': 8, 'n_estimators': 30}                1   \n",
       "8             {'max_features': 6, 'n_estimators': 30}                2   \n",
       "5             {'max_features': 4, 'n_estimators': 30}                3   \n",
       "17  {'max_features': 4, 'bootstrap': False, 'n_est...                4   \n",
       "10            {'max_features': 8, 'n_estimators': 10}                5   \n",
       "7             {'max_features': 6, 'n_estimators': 10}                6   \n",
       "15  {'max_features': 3, 'bootstrap': False, 'n_est...                7   \n",
       "4             {'max_features': 4, 'n_estimators': 10}                8   \n",
       "2             {'max_features': 2, 'n_estimators': 30}                9   \n",
       "13  {'max_features': 2, 'bootstrap': False, 'n_est...               10   \n",
       "1             {'max_features': 2, 'n_estimators': 10}               11   \n",
       "16  {'max_features': 4, 'bootstrap': False, 'n_est...               12   \n",
       "9              {'max_features': 8, 'n_estimators': 3}               13   \n",
       "6              {'max_features': 6, 'n_estimators': 3}               14   \n",
       "14  {'max_features': 3, 'bootstrap': False, 'n_est...               15   \n",
       "3              {'max_features': 4, 'n_estimators': 3}               16   \n",
       "12  {'max_features': 2, 'bootstrap': False, 'n_est...               17   \n",
       "0              {'max_features': 2, 'n_estimators': 3}               18   \n",
       "\n",
       "    split0_test_score       ...         split2_test_score  split2_train_score  \\\n",
       "11      -2.357390e+09       ...             -2.591972e+09       -3.773239e+08   \n",
       "8       -2.370010e+09       ...             -2.607703e+09       -3.805218e+08   \n",
       "5       -2.387153e+09       ...             -2.666426e+09       -3.790867e+08   \n",
       "17      -2.525578e+09       ...             -2.609100e+09       -0.000000e+00   \n",
       "10      -2.571970e+09       ...             -2.842317e+09       -4.730979e+08   \n",
       "7       -2.549663e+09       ...             -2.762720e+09       -4.994664e+08   \n",
       "15      -2.757999e+09       ...             -2.830927e+09       -0.000000e+00   \n",
       "4       -2.666283e+09       ...             -2.892276e+09       -4.962893e+08   \n",
       "2       -2.689185e+09       ...             -2.948330e+09       -4.371702e+08   \n",
       "13      -2.810721e+09       ...             -3.131187e+09       -0.000000e+00   \n",
       "1       -3.047771e+09       ...             -3.130196e+09       -5.776964e+08   \n",
       "16      -3.134040e+09       ...             -3.440422e+09       -0.000000e+00   \n",
       "9       -3.353504e+09       ...             -3.402843e+09       -8.603321e+08   \n",
       "6       -3.119657e+09       ...             -3.592772e+09       -9.353135e+08   \n",
       "14      -3.618324e+09       ...             -3.554815e+09       -0.000000e+00   \n",
       "3       -3.730181e+09       ...             -3.734515e+09       -9.169425e+08   \n",
       "12      -3.785816e+09       ...             -4.061751e+09       -0.000000e+00   \n",
       "0       -3.837622e+09       ...             -4.196408e+09       -1.116550e+09   \n",
       "\n",
       "    split3_test_score  split3_train_score  split4_test_score  \\\n",
       "11      -2.318617e+09       -3.882250e+08      -2.527022e+09   \n",
       "8       -2.350953e+09       -3.856095e+08      -2.661059e+09   \n",
       "5       -2.398071e+09       -4.040957e+08      -2.649316e+09   \n",
       "17      -2.439607e+09       -0.000000e+00      -2.725548e+09   \n",
       "10      -2.460258e+09       -5.155367e+08      -2.776666e+09   \n",
       "7       -2.521134e+09       -4.990325e+08      -2.907667e+09   \n",
       "15      -2.672765e+09       -0.000000e+00      -2.786190e+09   \n",
       "4       -2.616813e+09       -5.436192e+08      -2.948207e+09   \n",
       "2       -2.619995e+09       -4.376955e+08      -2.970968e+09   \n",
       "13      -2.788537e+09       -0.000000e+00      -3.099347e+09   \n",
       "1       -2.865188e+09       -5.716332e+08      -3.173856e+09   \n",
       "16      -3.053647e+09       -0.000000e+00      -3.338344e+09   \n",
       "9       -3.129307e+09       -8.881964e+08      -3.510047e+09   \n",
       "6       -3.328934e+09       -9.009801e+08      -3.579607e+09   \n",
       "14      -3.619116e+09       -0.000000e+00      -3.449864e+09   \n",
       "3       -3.418747e+09       -1.037400e+09      -3.913907e+09   \n",
       "12      -3.675704e+09       -0.000000e+00      -4.089667e+09   \n",
       "0       -3.903319e+09       -1.112342e+09      -4.184325e+09   \n",
       "\n",
       "    split4_train_score  std_fit_time  std_score_time  std_test_score  \\\n",
       "11       -3.810005e+08      0.404483        0.002880    1.091647e+08   \n",
       "8        -3.901917e+08      0.122489        0.008977    1.285063e+08   \n",
       "5        -3.845520e+08      0.119909        0.003061    1.214603e+08   \n",
       "17       -0.000000e+00      0.273368        0.004484    1.088031e+08   \n",
       "10       -4.985555e+08      0.201836        0.001093    1.392720e+08   \n",
       "7        -5.055542e+08      0.109002        0.001723    1.471542e+08   \n",
       "15       -5.465556e+00      0.060172        0.004476    6.286611e+07   \n",
       "4        -5.160297e+08      0.089629        0.000925    1.268562e+08   \n",
       "2        -4.452654e+08      0.126047        0.003608    1.626879e+08   \n",
       "13       -2.967449e+00      0.070890        0.001440    1.539231e+08   \n",
       "1        -5.802501e+08      0.104401        0.022670    1.327046e+08   \n",
       "16       -0.000000e+00      0.043896        0.004216    1.879203e+08   \n",
       "9        -9.151287e+08      0.073351        0.011021    1.241864e+08   \n",
       "6        -8.624664e+08      0.051322        0.005590    1.893141e+08   \n",
       "14       -6.072840e+01      0.086099        0.002074    7.795196e+07   \n",
       "3        -9.707739e+08      0.061670        0.002904    1.631421e+08   \n",
       "12       -0.000000e+00      0.011843        0.004679    1.900966e+08   \n",
       "0        -1.129650e+09      0.039307        0.009494    1.519609e+08   \n",
       "\n",
       "    std_train_score  \n",
       "11     4.871017e+06  \n",
       "8      3.617057e+06  \n",
       "5      8.571233e+06  \n",
       "17     6.056477e-03  \n",
       "10     1.459294e+07  \n",
       "7      3.100456e+06  \n",
       "15     8.093117e+00  \n",
       "4      1.542862e+07  \n",
       "2      2.966320e+06  \n",
       "13     1.181156e+00  \n",
       "1      7.345821e+06  \n",
       "16     0.000000e+00  \n",
       "9      2.750227e+07  \n",
       "6      2.591445e+07  \n",
       "14     2.429136e+01  \n",
       "3      4.084607e+07  \n",
       "12     0.000000e+00  \n",
       "0      2.220402e+07  \n",
       "\n",
       "[18 rows x 23 columns]"
      ]
     },
     "execution_count": 95,
     "metadata": {},
     "output_type": "execute_result"
    }
   ],
   "source": [
    "pd.DataFrame(grid_search.cv_results_).sort_values(by='rank_test_score')"
   ]
  },
  {
   "cell_type": "markdown",
   "metadata": {},
   "source": [
    "### Randomized Solution "
   ]
  },
  {
   "cell_type": "code",
   "execution_count": 96,
   "metadata": {},
   "outputs": [
    {
     "data": {
      "text/plain": [
       "RandomizedSearchCV(cv=5, error_score='raise-deprecating',\n",
       "          estimator=RandomForestRegressor(bootstrap=True, criterion='mse', max_depth=None,\n",
       "           max_features='auto', max_leaf_nodes=None,\n",
       "           min_impurity_decrease=0.0, min_impurity_split=None,\n",
       "           min_samples_leaf=1, min_samples_split=2,\n",
       "           min_weight_fraction_leaf=0.0, n_estimators='warn', n_jobs=None,\n",
       "           oob_score=False, random_state=42, verbose=0, warm_start=False),\n",
       "          fit_params=None, iid='warn', n_iter=10, n_jobs=-1,\n",
       "          param_distributions={'max_features': <scipy.stats._distn_infrastructure.rv_frozen object at 0x1a17025208>, 'n_estimators': <scipy.stats._distn_infrastructure.rv_frozen object at 0x1a1708ba90>},\n",
       "          pre_dispatch='2*n_jobs', random_state=42, refit=True,\n",
       "          return_train_score='warn', scoring='neg_mean_squared_error',\n",
       "          verbose=0)"
      ]
     },
     "execution_count": 96,
     "metadata": {},
     "output_type": "execute_result"
    }
   ],
   "source": [
    "from sklearn.model_selection import RandomizedSearchCV\n",
    "from scipy.stats import randint\n",
    "\n",
    "param_distribs = {\n",
    "        'n_estimators': randint(low=1, high=200),\n",
    "        'max_features': randint(low=1, high=8),\n",
    "    }\n",
    "\n",
    "forest_reg = RandomForestRegressor(random_state=42)\n",
    "rnd_search = RandomizedSearchCV(forest_reg, param_distributions=param_distribs, n_jobs=-1,\n",
    "                                n_iter=10, cv=5, scoring='neg_mean_squared_error', random_state=42)\n",
    "rnd_search.fit(housing_prepared, housing_labels)"
   ]
  },
  {
   "cell_type": "markdown",
   "metadata": {},
   "source": [
    "### results"
   ]
  },
  {
   "cell_type": "code",
   "execution_count": 97,
   "metadata": {},
   "outputs": [
    {
     "name": "stdout",
     "output_type": "stream",
     "text": [
      "49150.657232934034 {'max_features': 7, 'n_estimators': 180}\n",
      "51389.85295710133 {'max_features': 5, 'n_estimators': 15}\n",
      "50796.12045980556 {'max_features': 3, 'n_estimators': 72}\n",
      "50835.09932039744 {'max_features': 5, 'n_estimators': 21}\n",
      "49280.90117886215 {'max_features': 7, 'n_estimators': 122}\n",
      "50774.86679035961 {'max_features': 3, 'n_estimators': 75}\n",
      "50682.75001237282 {'max_features': 3, 'n_estimators': 88}\n",
      "49608.94061293652 {'max_features': 5, 'n_estimators': 100}\n",
      "50473.57642831875 {'max_features': 3, 'n_estimators': 150}\n",
      "64429.763804893395 {'max_features': 5, 'n_estimators': 2}\n"
     ]
    }
   ],
   "source": [
    "cvres = rnd_search.cv_results_\n",
    "for mean_score, params in zip(cvres[\"mean_test_score\"], cvres[\"params\"]):\n",
    "    print(np.sqrt(-mean_score), params)"
   ]
  },
  {
   "cell_type": "code",
   "execution_count": 98,
   "metadata": {},
   "outputs": [
    {
     "name": "stdout",
     "output_type": "stream",
     "text": [
      "The best hyperparameter combination found: {'max_features': 7, 'n_estimators': 180}\n"
     ]
    }
   ],
   "source": [
    "print('The best hyperparameter combination found: {}'.format(rnd_search.best_params_)) "
   ]
  },
  {
   "cell_type": "markdown",
   "metadata": {},
   "source": [
    "### feature importance"
   ]
  },
  {
   "cell_type": "code",
   "execution_count": 99,
   "metadata": {},
   "outputs": [
    {
     "data": {
      "text/plain": [
       "array([7.33442355e-02, 6.29090705e-02, 4.11437985e-02, 1.46726854e-02,\n",
       "       1.41064835e-02, 1.48742809e-02, 1.42575993e-02, 3.66158981e-01,\n",
       "       5.64191792e-02, 1.08792957e-01, 5.33510773e-02, 1.03114883e-02,\n",
       "       1.64780994e-01, 6.02803867e-05, 1.96041560e-03, 2.85647464e-03])"
      ]
     },
     "execution_count": 99,
     "metadata": {},
     "output_type": "execute_result"
    }
   ],
   "source": [
    "feature_importances = grid_search.best_estimator_.feature_importances_\n",
    "feature_importances"
   ]
  },
  {
   "cell_type": "code",
   "execution_count": 100,
   "metadata": {},
   "outputs": [
    {
     "data": {
      "text/plain": [
       "[(0.3661589806181342, 'median_income'),\n",
       " (0.1647809935615905, 'INLAND'),\n",
       " (0.10879295677551573, 'pop_per_hhold'),\n",
       " (0.07334423551601242, 'longitude'),\n",
       " (0.0629090704826203, 'latitude'),\n",
       " (0.05641917918195401, 'rooms_per_hhold'),\n",
       " (0.05335107734767581, 'bedrooms_per_room'),\n",
       " (0.041143798478729635, 'housing_median_age'),\n",
       " (0.014874280890402767, 'population'),\n",
       " (0.014672685420543237, 'total_rooms'),\n",
       " (0.014257599323407807, 'households'),\n",
       " (0.014106483453584102, 'total_bedrooms'),\n",
       " (0.010311488326303787, '<1H OCEAN'),\n",
       " (0.002856474637320158, 'NEAR OCEAN'),\n",
       " (0.00196041559947807, 'NEAR BAY'),\n",
       " (6.028038672736599e-05, 'ISLAND')]"
      ]
     },
     "execution_count": 100,
     "metadata": {},
     "output_type": "execute_result"
    }
   ],
   "source": [
    "extra_attribs = [\"rooms_per_hhold\", \"pop_per_hhold\", \"bedrooms_per_room\"]\n",
    "#cat_encoder = cat_pipeline.named_steps[\"cat_encoder\"] # old solution\n",
    "cat_encoder = full_pipeline.named_transformers_[\"cat\"]\n",
    "cat_one_hot_attribs = list(cat_encoder.categories_[0])\n",
    "attributes = num_attribs + extra_attribs + cat_one_hot_attribs\n",
    "sorted(zip(feature_importances, attributes), reverse=True)"
   ]
  },
  {
   "cell_type": "markdown",
   "metadata": {},
   "source": [
    "Median income is the number one predictor on housing prices. Using the information above we can decide to drop certain features. "
   ]
  },
  {
   "cell_type": "markdown",
   "metadata": {},
   "source": [
    "## Evaluate Test data"
   ]
  },
  {
   "cell_type": "code",
   "execution_count": 101,
   "metadata": {},
   "outputs": [],
   "source": [
    "final_model = grid_search.best_estimator_\n",
    "\n",
    "X_test = strat_test_set.drop(\"median_house_value\", axis=1)\n",
    "y_test = strat_test_set[\"median_house_value\"].copy()\n",
    "\n",
    "X_test_prepared = full_pipeline.transform(X_test)\n",
    "final_predictions = final_model.predict(X_test_prepared)\n",
    "\n",
    "final_mse = mean_squared_error(y_test, final_predictions)\n",
    "final_rmse = np.sqrt(final_mse)"
   ]
  },
  {
   "cell_type": "code",
   "execution_count": 102,
   "metadata": {},
   "outputs": [
    {
     "data": {
      "text/plain": [
       "47730.22690385927"
      ]
     },
     "execution_count": 102,
     "metadata": {},
     "output_type": "execute_result"
    }
   ],
   "source": [
    "final_rmse"
   ]
  },
  {
   "cell_type": "code",
   "execution_count": 124,
   "metadata": {},
   "outputs": [
    {
     "name": "stdout",
     "output_type": "stream",
     "text": [
      "prediction \t actual \t\t error\n",
      "495467 \t\t 500001 \t\t -1%\n",
      "262676 \t\t 240300 \t\t 9%\n",
      "235380 \t\t 218200 \t\t 8%\n",
      "211883 \t\t 182100 \t\t 16%\n",
      "135516 \t\t 121300 \t\t 12%\n",
      "147776 \t\t 120600 \t\t 23%\n",
      "63540 \t\t 72300 \t\t -12%\n",
      "439026 \t\t 500001 \t\t -12%\n",
      "106323 \t\t 98900 \t\t 8%\n",
      "100293 \t\t 82600 \t\t 21%\n",
      "369053 \t\t 399400 \t\t -8%\n",
      "81756 \t\t 78600 \t\t 4%\n",
      "279346 \t\t 212500 \t\t 31%\n",
      "205150 \t\t 174100 \t\t 18%\n",
      "221203 \t\t 258100 \t\t -14%\n"
     ]
    }
   ],
   "source": [
    "print('prediction \\t actual \\t\\t error')\n",
    "for pred, value in zip(final_predictions[:15],y_test[:15]):\n",
    "    print('{} \\t\\t {} \\t\\t {:.0%}'.format(int(pred), int(value), (pred-value)/value))"
   ]
  },
  {
   "cell_type": "code",
   "execution_count": 132,
   "metadata": {},
   "outputs": [
    {
     "data": {
      "text/plain": [
       "18"
      ]
     },
     "execution_count": 132,
     "metadata": {},
     "output_type": "execute_result"
    }
   ],
   "source": [
    "# average abs % error \n",
    "int((abs(final_predictions-y_test)/y_test*100).mean())\n"
   ]
  },
  {
   "cell_type": "markdown",
   "metadata": {},
   "source": [
    "\n",
    "# Present solution"
   ]
  },
  {
   "cell_type": "markdown",
   "metadata": {},
   "source": [
    "# Launch monitor and maintain system"
   ]
  },
  {
   "cell_type": "code",
   "execution_count": null,
   "metadata": {},
   "outputs": [],
   "source": []
  }
 ],
 "metadata": {
  "kernelspec": {
   "display_name": "Python [conda env:mlbook]",
   "language": "python",
   "name": "conda-env-mlbook-py"
  },
  "language_info": {
   "codemirror_mode": {
    "name": "ipython",
    "version": 3
   },
   "file_extension": ".py",
   "mimetype": "text/x-python",
   "name": "python",
   "nbconvert_exporter": "python",
   "pygments_lexer": "ipython3",
   "version": "3.5.6"
  },
  "latex_envs": {
   "LaTeX_envs_menu_present": true,
   "autoclose": false,
   "autocomplete": true,
   "bibliofile": "biblio.bib",
   "cite_by": "apalike",
   "current_citInitial": 1,
   "eqLabelWithNumbers": true,
   "eqNumInitial": 1,
   "hotkeys": {
    "equation": "Ctrl-E",
    "itemize": "Ctrl-I"
   },
   "labels_anchors": false,
   "latex_user_defs": false,
   "report_style_numbering": false,
   "user_envs_cfg": false
  },
  "toc": {
   "base_numbering": 1,
   "nav_menu": {},
   "number_sections": true,
   "sideBar": true,
   "skip_h1_title": false,
   "title_cell": "Table of Contents",
   "title_sidebar": "Contents",
   "toc_cell": false,
   "toc_position": {
    "height": "calc(100% - 180px)",
    "left": "10px",
    "top": "150px",
    "width": "256px"
   },
   "toc_section_display": true,
   "toc_window_display": true
  },
  "varInspector": {
   "cols": {
    "lenName": 16,
    "lenType": 16,
    "lenVar": 40
   },
   "kernels_config": {
    "python": {
     "delete_cmd_postfix": "",
     "delete_cmd_prefix": "del ",
     "library": "var_list.py",
     "varRefreshCmd": "print(var_dic_list())"
    },
    "r": {
     "delete_cmd_postfix": ") ",
     "delete_cmd_prefix": "rm(",
     "library": "var_list.r",
     "varRefreshCmd": "cat(var_dic_list()) "
    }
   },
   "types_to_exclude": [
    "module",
    "function",
    "builtin_function_or_method",
    "instance",
    "_Feature"
   ],
   "window_display": false
  }
 },
 "nbformat": 4,
 "nbformat_minor": 2
}
